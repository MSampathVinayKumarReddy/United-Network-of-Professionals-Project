{
 "cells": [
  {
   "cell_type": "markdown",
   "id": "bc9552d6",
   "metadata": {},
   "source": [
    "# Chronic Kidney Disease Prediction Project\n",
    "## ---------------------------------(SLIDE -1 with picture)---------------------------------------------\n",
    "\n",
    "# Data Collected from kaggle:  'https://www.kaggle.com/colearninglounge/chronic-kidney-disease'\n",
    "\n",
    "## under the guidance of _______, PROJECT DONE BY :"
   ]
  },
  {
   "cell_type": "markdown",
   "id": "87a17b98",
   "metadata": {},
   "source": [
    "## Importing Libraries & Dataset"
   ]
  },
  {
   "cell_type": "code",
   "execution_count": 1,
   "id": "afcee9ba",
   "metadata": {},
   "outputs": [],
   "source": [
    "import numpy as np\n",
    "import pandas as pd\n",
    "import matplotlib.pyplot as plt\n",
    "import seaborn as sns\n",
    "%matplotlib inline"
   ]
  },
  {
   "cell_type": "code",
   "execution_count": 2,
   "id": "7d6a40c6",
   "metadata": {},
   "outputs": [],
   "source": [
    "import warnings\n",
    "warnings.filterwarnings('ignore')"
   ]
  },
  {
   "cell_type": "code",
   "execution_count": 3,
   "id": "f87d8fb7",
   "metadata": {},
   "outputs": [],
   "source": [
    "train_data1=pd.read_csv('train.csv')"
   ]
  },
  {
   "cell_type": "code",
   "execution_count": 4,
   "id": "d3c97bd8",
   "metadata": {},
   "outputs": [
    {
     "data": {
      "text/html": [
       "<div>\n",
       "<style scoped>\n",
       "    .dataframe tbody tr th:only-of-type {\n",
       "        vertical-align: middle;\n",
       "    }\n",
       "\n",
       "    .dataframe tbody tr th {\n",
       "        vertical-align: top;\n",
       "    }\n",
       "\n",
       "    .dataframe thead th {\n",
       "        text-align: right;\n",
       "    }\n",
       "</style>\n",
       "<table border=\"1\" class=\"dataframe\">\n",
       "  <thead>\n",
       "    <tr style=\"text-align: right;\">\n",
       "      <th></th>\n",
       "      <th>id</th>\n",
       "      <th>age</th>\n",
       "      <th>bp</th>\n",
       "      <th>sg</th>\n",
       "      <th>al</th>\n",
       "      <th>su</th>\n",
       "      <th>rbc</th>\n",
       "      <th>pc</th>\n",
       "      <th>pcc</th>\n",
       "      <th>ba</th>\n",
       "      <th>...</th>\n",
       "      <th>pcv</th>\n",
       "      <th>wc</th>\n",
       "      <th>rc</th>\n",
       "      <th>htn</th>\n",
       "      <th>dm</th>\n",
       "      <th>cad</th>\n",
       "      <th>appet</th>\n",
       "      <th>pe</th>\n",
       "      <th>ane</th>\n",
       "      <th>classification</th>\n",
       "    </tr>\n",
       "  </thead>\n",
       "  <tbody>\n",
       "    <tr>\n",
       "      <th>0</th>\n",
       "      <td>157</td>\n",
       "      <td>62.0</td>\n",
       "      <td>70.0</td>\n",
       "      <td>1.025</td>\n",
       "      <td>3.0</td>\n",
       "      <td>0.0</td>\n",
       "      <td>normal</td>\n",
       "      <td>abnormal</td>\n",
       "      <td>notpresent</td>\n",
       "      <td>notpresent</td>\n",
       "      <td>...</td>\n",
       "      <td>39.0</td>\n",
       "      <td>7900</td>\n",
       "      <td>3.9</td>\n",
       "      <td>yes</td>\n",
       "      <td>yes</td>\n",
       "      <td>no</td>\n",
       "      <td>good</td>\n",
       "      <td>no</td>\n",
       "      <td>no</td>\n",
       "      <td>ckd</td>\n",
       "    </tr>\n",
       "    <tr>\n",
       "      <th>1</th>\n",
       "      <td>109</td>\n",
       "      <td>54.0</td>\n",
       "      <td>70.0</td>\n",
       "      <td>NaN</td>\n",
       "      <td>NaN</td>\n",
       "      <td>NaN</td>\n",
       "      <td>NaN</td>\n",
       "      <td>NaN</td>\n",
       "      <td>notpresent</td>\n",
       "      <td>notpresent</td>\n",
       "      <td>...</td>\n",
       "      <td>NaN</td>\n",
       "      <td>NaN</td>\n",
       "      <td>NaN</td>\n",
       "      <td>no</td>\n",
       "      <td>yes</td>\n",
       "      <td>no</td>\n",
       "      <td>good</td>\n",
       "      <td>no</td>\n",
       "      <td>no</td>\n",
       "      <td>ckd</td>\n",
       "    </tr>\n",
       "    <tr>\n",
       "      <th>2</th>\n",
       "      <td>17</td>\n",
       "      <td>47.0</td>\n",
       "      <td>80.0</td>\n",
       "      <td>NaN</td>\n",
       "      <td>NaN</td>\n",
       "      <td>NaN</td>\n",
       "      <td>NaN</td>\n",
       "      <td>NaN</td>\n",
       "      <td>notpresent</td>\n",
       "      <td>notpresent</td>\n",
       "      <td>...</td>\n",
       "      <td>NaN</td>\n",
       "      <td>NaN</td>\n",
       "      <td>NaN</td>\n",
       "      <td>yes</td>\n",
       "      <td>no</td>\n",
       "      <td>no</td>\n",
       "      <td>poor</td>\n",
       "      <td>no</td>\n",
       "      <td>no</td>\n",
       "      <td>ckd</td>\n",
       "    </tr>\n",
       "    <tr>\n",
       "      <th>3</th>\n",
       "      <td>347</td>\n",
       "      <td>43.0</td>\n",
       "      <td>60.0</td>\n",
       "      <td>1.025</td>\n",
       "      <td>0.0</td>\n",
       "      <td>0.0</td>\n",
       "      <td>normal</td>\n",
       "      <td>normal</td>\n",
       "      <td>notpresent</td>\n",
       "      <td>notpresent</td>\n",
       "      <td>...</td>\n",
       "      <td>43.0</td>\n",
       "      <td>7200</td>\n",
       "      <td>5.5</td>\n",
       "      <td>no</td>\n",
       "      <td>no</td>\n",
       "      <td>no</td>\n",
       "      <td>good</td>\n",
       "      <td>no</td>\n",
       "      <td>no</td>\n",
       "      <td>notckd</td>\n",
       "    </tr>\n",
       "    <tr>\n",
       "      <th>4</th>\n",
       "      <td>24</td>\n",
       "      <td>42.0</td>\n",
       "      <td>100.0</td>\n",
       "      <td>1.015</td>\n",
       "      <td>4.0</td>\n",
       "      <td>0.0</td>\n",
       "      <td>normal</td>\n",
       "      <td>abnormal</td>\n",
       "      <td>notpresent</td>\n",
       "      <td>present</td>\n",
       "      <td>...</td>\n",
       "      <td>39.0</td>\n",
       "      <td>8300</td>\n",
       "      <td>4.6</td>\n",
       "      <td>yes</td>\n",
       "      <td>no</td>\n",
       "      <td>no</td>\n",
       "      <td>poor</td>\n",
       "      <td>no</td>\n",
       "      <td>no</td>\n",
       "      <td>ckd</td>\n",
       "    </tr>\n",
       "  </tbody>\n",
       "</table>\n",
       "<p>5 rows × 26 columns</p>\n",
       "</div>"
      ],
      "text/plain": [
       "    id   age     bp     sg   al   su     rbc        pc         pcc  \\\n",
       "0  157  62.0   70.0  1.025  3.0  0.0  normal  abnormal  notpresent   \n",
       "1  109  54.0   70.0    NaN  NaN  NaN     NaN       NaN  notpresent   \n",
       "2   17  47.0   80.0    NaN  NaN  NaN     NaN       NaN  notpresent   \n",
       "3  347  43.0   60.0  1.025  0.0  0.0  normal    normal  notpresent   \n",
       "4   24  42.0  100.0  1.015  4.0  0.0  normal  abnormal  notpresent   \n",
       "\n",
       "           ba  ...   pcv    wc   rc  htn   dm  cad  appet  pe ane  \\\n",
       "0  notpresent  ...  39.0  7900  3.9  yes  yes   no   good  no  no   \n",
       "1  notpresent  ...   NaN   NaN  NaN   no  yes   no   good  no  no   \n",
       "2  notpresent  ...   NaN   NaN  NaN  yes   no   no   poor  no  no   \n",
       "3  notpresent  ...  43.0  7200  5.5   no   no   no   good  no  no   \n",
       "4     present  ...  39.0  8300  4.6  yes   no   no   poor  no  no   \n",
       "\n",
       "  classification  \n",
       "0            ckd  \n",
       "1            ckd  \n",
       "2            ckd  \n",
       "3         notckd  \n",
       "4            ckd  \n",
       "\n",
       "[5 rows x 26 columns]"
      ]
     },
     "execution_count": 4,
     "metadata": {},
     "output_type": "execute_result"
    }
   ],
   "source": [
    "train_data1.head()"
   ]
  },
  {
   "cell_type": "markdown",
   "id": "bca6e83c",
   "metadata": {},
   "source": [
    "# SLIDE 2\n",
    "## --------------(Data we have)-------------------\n",
    "\n",
    "We have 25 features  + output class ===25+1\n",
    "\n",
    "Id(numerical) - Patient Id Age(numerical) - age in years\n",
    "\n",
    "Blood Pressure(numerical) - bp in mm/Hg\n",
    "\n",
    "Specific Gravity(nominal) - sg - (1.005,1.010,1.015,1.020,1.025)(specific gravity (SG) is a measure of the concentration of solutes in the urine)\n",
    "\n",
    "Albumin(nominal) - al - (0,1,2,3,4,5)(Albumin is a protein made by your liver. Albumin helps keep fluid in your bloodstream so it doesn't leak into other tissues)\n",
    "\n",
    "Sugar(nominal) - su - (0,1,2,3,4,5) (in blood)\n",
    "\n",
    "Red Blood Cells(nominal) - rbc - (normal,abnormal)\n",
    "\n",
    "Pus Cell (nominal) - pc - (normal,abnormal)(Pus is a thick fluid containing dead tissue, cells, and bacteria)\n",
    "\n",
    "Pus Cell clumps(nominal) - pcc - (present,notpresent)\n",
    "\n",
    "Bacteria(nominal) - ba - (present,notpresent)\n",
    "\n",
    "Blood Glucose Random(numerical) - bgr in mgs/dl\n",
    "\n",
    "Blood Urea(numerical) -bu in mgs/dl\n",
    "\n",
    "Serum Creatinine(numerical) - sc in mgs/dl\n",
    "\n",
    "Sodium(numerical) - sod in mEq/L\n",
    "\n",
    "Potassium(numerical) - pot in mEq/L\n",
    "\n",
    "Hemoglobin(numerical) - hemo in gms\n",
    "\n",
    "Packed Cell Volume(numerical)\n",
    "\n",
    "White Blood Cell Count(numerical) - wc in cells/cumm\n",
    "\n",
    "Red Blood Cell Count(numerical) - rc in millions/cmm\n",
    "\n",
    "Hypertension(nominal) - htn - (yes,no)\n",
    "\n",
    "Diabetes Mellitus(nominal) - dm - (yes,no)\n",
    "\n",
    "Coronary Artery Disease(nominal) - cad - (yes,no)\n",
    "\n",
    "Appetite(nominal) - appet - (good,poor)\n",
    "\n",
    "Pedal Edema(nominal) - pe - (yes,no)\n",
    "\n",
    "Anemia(nominal) - ane - (yes,no)\n",
    "\n",
    "Class (nominal)- class - (ckd,notckd)"
   ]
  },
  {
   "cell_type": "code",
   "execution_count": 5,
   "id": "afa2f544",
   "metadata": {},
   "outputs": [
    {
     "data": {
      "text/plain": [
       "(280, 26)"
      ]
     },
     "execution_count": 5,
     "metadata": {},
     "output_type": "execute_result"
    }
   ],
   "source": [
    "train_data1.shape"
   ]
  },
  {
   "cell_type": "markdown",
   "id": "666dd1b3",
   "metadata": {},
   "source": [
    "## SLIDE-2 shape\n",
    "\n",
    "\n",
    "### data consists of 280 obeservations and 26 features"
   ]
  },
  {
   "cell_type": "code",
   "execution_count": 6,
   "id": "49ff273e",
   "metadata": {},
   "outputs": [
    {
     "name": "stdout",
     "output_type": "stream",
     "text": [
      "<class 'pandas.core.frame.DataFrame'>\n",
      "RangeIndex: 280 entries, 0 to 279\n",
      "Data columns (total 26 columns):\n",
      " #   Column          Non-Null Count  Dtype  \n",
      "---  ------          --------------  -----  \n",
      " 0   id              280 non-null    int64  \n",
      " 1   age             275 non-null    float64\n",
      " 2   bp              271 non-null    float64\n",
      " 3   sg              244 non-null    float64\n",
      " 4   al              245 non-null    float64\n",
      " 5   su              242 non-null    float64\n",
      " 6   rbc             173 non-null    object \n",
      " 7   pc              230 non-null    object \n",
      " 8   pcc             276 non-null    object \n",
      " 9   ba              276 non-null    object \n",
      " 10  bgr             247 non-null    float64\n",
      " 11  bu              266 non-null    float64\n",
      " 12  sc              268 non-null    float64\n",
      " 13  sod             213 non-null    float64\n",
      " 14  pot             212 non-null    float64\n",
      " 15  hemo            241 non-null    float64\n",
      " 16  pcv             229 non-null    float64\n",
      " 17  wc              203 non-null    object \n",
      " 18  rc              187 non-null    object \n",
      " 19  htn             279 non-null    object \n",
      " 20  dm              279 non-null    object \n",
      " 21  cad             279 non-null    object \n",
      " 22  appet           280 non-null    object \n",
      " 23  pe              280 non-null    object \n",
      " 24  ane             280 non-null    object \n",
      " 25  classification  280 non-null    object \n",
      "dtypes: float64(12), int64(1), object(13)\n",
      "memory usage: 57.0+ KB\n"
     ]
    }
   ],
   "source": [
    "train_data1.info()"
   ]
  },
  {
   "cell_type": "code",
   "execution_count": 7,
   "id": "a8dedc74",
   "metadata": {},
   "outputs": [
    {
     "data": {
      "text/html": [
       "<div>\n",
       "<style scoped>\n",
       "    .dataframe tbody tr th:only-of-type {\n",
       "        vertical-align: middle;\n",
       "    }\n",
       "\n",
       "    .dataframe tbody tr th {\n",
       "        vertical-align: top;\n",
       "    }\n",
       "\n",
       "    .dataframe thead th {\n",
       "        text-align: right;\n",
       "    }\n",
       "</style>\n",
       "<table border=\"1\" class=\"dataframe\">\n",
       "  <thead>\n",
       "    <tr style=\"text-align: right;\">\n",
       "      <th></th>\n",
       "      <th>count</th>\n",
       "      <th>mean</th>\n",
       "      <th>std</th>\n",
       "      <th>min</th>\n",
       "      <th>25%</th>\n",
       "      <th>50%</th>\n",
       "      <th>75%</th>\n",
       "      <th>max</th>\n",
       "    </tr>\n",
       "  </thead>\n",
       "  <tbody>\n",
       "    <tr>\n",
       "      <th>id</th>\n",
       "      <td>280.0</td>\n",
       "      <td>202.928571</td>\n",
       "      <td>111.988168</td>\n",
       "      <td>1.000</td>\n",
       "      <td>110.50</td>\n",
       "      <td>202.00</td>\n",
       "      <td>302.25</td>\n",
       "      <td>399.000</td>\n",
       "    </tr>\n",
       "    <tr>\n",
       "      <th>age</th>\n",
       "      <td>275.0</td>\n",
       "      <td>51.454545</td>\n",
       "      <td>17.476176</td>\n",
       "      <td>2.000</td>\n",
       "      <td>42.00</td>\n",
       "      <td>55.00</td>\n",
       "      <td>65.00</td>\n",
       "      <td>90.000</td>\n",
       "    </tr>\n",
       "    <tr>\n",
       "      <th>bp</th>\n",
       "      <td>271.0</td>\n",
       "      <td>76.051661</td>\n",
       "      <td>14.256289</td>\n",
       "      <td>50.000</td>\n",
       "      <td>70.00</td>\n",
       "      <td>70.00</td>\n",
       "      <td>80.00</td>\n",
       "      <td>180.000</td>\n",
       "    </tr>\n",
       "    <tr>\n",
       "      <th>sg</th>\n",
       "      <td>244.0</td>\n",
       "      <td>1.017439</td>\n",
       "      <td>0.005746</td>\n",
       "      <td>1.005</td>\n",
       "      <td>1.01</td>\n",
       "      <td>1.02</td>\n",
       "      <td>1.02</td>\n",
       "      <td>1.025</td>\n",
       "    </tr>\n",
       "    <tr>\n",
       "      <th>al</th>\n",
       "      <td>245.0</td>\n",
       "      <td>1.024490</td>\n",
       "      <td>1.375805</td>\n",
       "      <td>0.000</td>\n",
       "      <td>0.00</td>\n",
       "      <td>0.00</td>\n",
       "      <td>2.00</td>\n",
       "      <td>5.000</td>\n",
       "    </tr>\n",
       "    <tr>\n",
       "      <th>su</th>\n",
       "      <td>242.0</td>\n",
       "      <td>0.438017</td>\n",
       "      <td>1.073193</td>\n",
       "      <td>0.000</td>\n",
       "      <td>0.00</td>\n",
       "      <td>0.00</td>\n",
       "      <td>0.00</td>\n",
       "      <td>5.000</td>\n",
       "    </tr>\n",
       "    <tr>\n",
       "      <th>bgr</th>\n",
       "      <td>247.0</td>\n",
       "      <td>150.186235</td>\n",
       "      <td>77.357144</td>\n",
       "      <td>70.000</td>\n",
       "      <td>100.00</td>\n",
       "      <td>124.00</td>\n",
       "      <td>171.50</td>\n",
       "      <td>490.000</td>\n",
       "    </tr>\n",
       "    <tr>\n",
       "      <th>bu</th>\n",
       "      <td>266.0</td>\n",
       "      <td>56.983835</td>\n",
       "      <td>51.456635</td>\n",
       "      <td>10.000</td>\n",
       "      <td>27.25</td>\n",
       "      <td>41.00</td>\n",
       "      <td>64.75</td>\n",
       "      <td>391.000</td>\n",
       "    </tr>\n",
       "    <tr>\n",
       "      <th>sc</th>\n",
       "      <td>268.0</td>\n",
       "      <td>3.006157</td>\n",
       "      <td>5.850085</td>\n",
       "      <td>0.400</td>\n",
       "      <td>0.90</td>\n",
       "      <td>1.30</td>\n",
       "      <td>2.80</td>\n",
       "      <td>76.000</td>\n",
       "    </tr>\n",
       "    <tr>\n",
       "      <th>sod</th>\n",
       "      <td>213.0</td>\n",
       "      <td>137.255869</td>\n",
       "      <td>11.677123</td>\n",
       "      <td>4.500</td>\n",
       "      <td>135.00</td>\n",
       "      <td>138.00</td>\n",
       "      <td>141.00</td>\n",
       "      <td>163.000</td>\n",
       "    </tr>\n",
       "    <tr>\n",
       "      <th>pot</th>\n",
       "      <td>212.0</td>\n",
       "      <td>4.754245</td>\n",
       "      <td>3.826341</td>\n",
       "      <td>2.700</td>\n",
       "      <td>3.90</td>\n",
       "      <td>4.40</td>\n",
       "      <td>4.90</td>\n",
       "      <td>47.000</td>\n",
       "    </tr>\n",
       "    <tr>\n",
       "      <th>hemo</th>\n",
       "      <td>241.0</td>\n",
       "      <td>12.531535</td>\n",
       "      <td>2.882635</td>\n",
       "      <td>3.100</td>\n",
       "      <td>10.50</td>\n",
       "      <td>12.70</td>\n",
       "      <td>14.90</td>\n",
       "      <td>17.800</td>\n",
       "    </tr>\n",
       "    <tr>\n",
       "      <th>pcv</th>\n",
       "      <td>229.0</td>\n",
       "      <td>39.165939</td>\n",
       "      <td>8.774388</td>\n",
       "      <td>9.000</td>\n",
       "      <td>33.00</td>\n",
       "      <td>41.00</td>\n",
       "      <td>46.00</td>\n",
       "      <td>54.000</td>\n",
       "    </tr>\n",
       "  </tbody>\n",
       "</table>\n",
       "</div>"
      ],
      "text/plain": [
       "      count        mean         std     min     25%     50%     75%      max\n",
       "id    280.0  202.928571  111.988168   1.000  110.50  202.00  302.25  399.000\n",
       "age   275.0   51.454545   17.476176   2.000   42.00   55.00   65.00   90.000\n",
       "bp    271.0   76.051661   14.256289  50.000   70.00   70.00   80.00  180.000\n",
       "sg    244.0    1.017439    0.005746   1.005    1.01    1.02    1.02    1.025\n",
       "al    245.0    1.024490    1.375805   0.000    0.00    0.00    2.00    5.000\n",
       "su    242.0    0.438017    1.073193   0.000    0.00    0.00    0.00    5.000\n",
       "bgr   247.0  150.186235   77.357144  70.000  100.00  124.00  171.50  490.000\n",
       "bu    266.0   56.983835   51.456635  10.000   27.25   41.00   64.75  391.000\n",
       "sc    268.0    3.006157    5.850085   0.400    0.90    1.30    2.80   76.000\n",
       "sod   213.0  137.255869   11.677123   4.500  135.00  138.00  141.00  163.000\n",
       "pot   212.0    4.754245    3.826341   2.700    3.90    4.40    4.90   47.000\n",
       "hemo  241.0   12.531535    2.882635   3.100   10.50   12.70   14.90   17.800\n",
       "pcv   229.0   39.165939    8.774388   9.000   33.00   41.00   46.00   54.000"
      ]
     },
     "execution_count": 7,
     "metadata": {},
     "output_type": "execute_result"
    }
   ],
   "source": [
    "train_data1.describe().T"
   ]
  },
  {
   "cell_type": "markdown",
   "id": "e1351ac6",
   "metadata": {},
   "source": [
    "# ---------------------------------SLIDE-3 (ANALYSIS)------------------------------------------\n",
    "\n",
    "NUMERICAL DATA ANALYSIS\n",
    "\n",
    "age(Age)---2 to 90 years, mean < median )(Left skewed)\n",
    "\n",
    "bp(Blood Pressure)--- from 50 to 180. Also, the 2nd Quartile and 3rd Quartile are same. This means,that there are many entries with bp value as 70. The mean > median  (right skewed)\n",
    "\n",
    "bgr(Blood Glucose Random)--70 to 490\n",
    "\n",
    "sod(Sodium)---many missing values"
   ]
  },
  {
   "cell_type": "code",
   "execution_count": 8,
   "id": "ff5e1b9f",
   "metadata": {},
   "outputs": [
    {
     "data": {
      "text/plain": [
       "<matplotlib.axes._subplots.AxesSubplot at 0x1caa8d9b100>"
      ]
     },
     "execution_count": 8,
     "metadata": {},
     "output_type": "execute_result"
    },
    {
     "data": {
      "image/png": "[encoded data removed]",
      "text/plain": [
       "<Figure size 1008x432 with 1 Axes>"
      ]
     },
     "metadata": {
      "needs_background": "light"
     },
     "output_type": "display_data"
    }
   ],
   "source": [
    "plt.figure(figsize=(14,6))\n",
    "sns.set_style('darkgrid')\n",
    "sns.distplot(train_data1['age'])"
   ]
  },
  {
   "cell_type": "code",
   "execution_count": 9,
   "id": "701cb22e",
   "metadata": {},
   "outputs": [
    {
     "data": {
      "text/plain": [
       "<matplotlib.axes._subplots.AxesSubplot at 0x1caaae2af70>"
      ]
     },
     "execution_count": 9,
     "metadata": {},
     "output_type": "execute_result"
    },
    {
     "data": {
      "image/png": "[encoded data removed]",
      "text/plain": [
       "<Figure size 1008x432 with 1 Axes>"
      ]
     },
     "metadata": {},
     "output_type": "display_data"
    }
   ],
   "source": [
    "plt.figure(figsize=(14,6))\n",
    "sns.set_style('darkgrid')\n",
    "sns.distplot(train_data1['bgr'])"
   ]
  },
  {
   "cell_type": "markdown",
   "id": "a7d03c80",
   "metadata": {},
   "source": [
    "# Numerical & Categorical Data"
   ]
  },
  {
   "cell_type": "code",
   "execution_count": 10,
   "id": "a77076bc",
   "metadata": {},
   "outputs": [
    {
     "name": "stdout",
     "output_type": "stream",
     "text": [
      "Number of Categirical Variables including Label is 13\n",
      "Number of Numerical Variables including Label is 12\n"
     ]
    }
   ],
   "source": [
    "cat_var=['sg','al','su','rbc','pc','pcc','ba','htn','dm','cad','appet','pe','ane']\n",
    "num_var=['id','age','bp','bgr','bu','sc','sod','pot','hemo','pcv','wc','rc']\n",
    "print('Number of Categirical Variables including Label is',len(cat_var))\n",
    "print('Number of Numerical Variables including Label is',len(num_var))"
   ]
  },
  {
   "cell_type": "code",
   "execution_count": 11,
   "id": "3ee9135f",
   "metadata": {},
   "outputs": [
    {
     "name": "stdout",
     "output_type": "stream",
     "text": [
      "<class 'pandas.core.frame.DataFrame'>\n",
      "RangeIndex: 280 entries, 0 to 279\n",
      "Data columns (total 26 columns):\n",
      " #   Column          Non-Null Count  Dtype  \n",
      "---  ------          --------------  -----  \n",
      " 0   id              280 non-null    int64  \n",
      " 1   age             275 non-null    float64\n",
      " 2   bp              271 non-null    float64\n",
      " 3   sg              244 non-null    float64\n",
      " 4   al              245 non-null    float64\n",
      " 5   su              242 non-null    float64\n",
      " 6   rbc             173 non-null    object \n",
      " 7   pc              230 non-null    object \n",
      " 8   pcc             276 non-null    object \n",
      " 9   ba              276 non-null    object \n",
      " 10  bgr             247 non-null    float64\n",
      " 11  bu              266 non-null    float64\n",
      " 12  sc              268 non-null    float64\n",
      " 13  sod             213 non-null    float64\n",
      " 14  pot             212 non-null    float64\n",
      " 15  hemo            241 non-null    float64\n",
      " 16  pcv             229 non-null    float64\n",
      " 17  wc              203 non-null    object \n",
      " 18  rc              187 non-null    object \n",
      " 19  htn             279 non-null    object \n",
      " 20  dm              279 non-null    object \n",
      " 21  cad             279 non-null    object \n",
      " 22  appet           280 non-null    object \n",
      " 23  pe              280 non-null    object \n",
      " 24  ane             280 non-null    object \n",
      " 25  classification  280 non-null    object \n",
      "dtypes: float64(12), int64(1), object(13)\n",
      "memory usage: 57.0+ KB\n"
     ]
    }
   ],
   "source": [
    "train_data1.info()"
   ]
  },
  {
   "cell_type": "markdown",
   "id": "31bb287e",
   "metadata": {},
   "source": [
    "#### white blood cells and red blood should be numerical"
   ]
  },
  {
   "cell_type": "code",
   "execution_count": 12,
   "id": "19e2e464",
   "metadata": {},
   "outputs": [
    {
     "data": {
      "text/plain": [
       "array(['7900', nan, '7200', '8300', '4200', '9900', '10500', '2200',\n",
       "       '7500', '8400', '15700', '7000', '4700', '9600', '6700', '9000',\n",
       "       '5900', '4300', '12700', '5500', '5000', '9700', '6900', '9800',\n",
       "       '5800', '6400', '8100', '15200', '5600', '14900', '9100', '26400',\n",
       "       '8000', '6500', '9200', '6800', '10800', '4500', '\\t?', '10700',\n",
       "       '11000', '9400', '6300', '10300', '9500', '6200', '6600', '4100',\n",
       "       '7700', '5400', '13600', '\\t8400', '11500', '10900', '12200',\n",
       "       '8600', '7300', '5200', '7400', '12800', '6000', '9300', '7800',\n",
       "       '10400', '8800', '10200', '16700', '8500', '21600', '12500',\n",
       "       '13200', '5100', '12300', '18900', '5700', '8200', '16300', '4900',\n",
       "       '14600'], dtype=object)"
      ]
     },
     "execution_count": 12,
     "metadata": {},
     "output_type": "execute_result"
    }
   ],
   "source": [
    "train_data1['wc'].unique()"
   ]
  },
  {
   "cell_type": "markdown",
   "id": "910b32d7",
   "metadata": {},
   "source": [
    "#### There are some values like:------   nan,\\t?,\\t8400."
   ]
  },
  {
   "cell_type": "code",
   "execution_count": 13,
   "id": "e797d827",
   "metadata": {},
   "outputs": [
    {
     "data": {
      "text/plain": [
       "array(['3.9', nan, '5.5', '4.6', '3.4', '4.7', '6.1', '2.6', '5.6', '3.3',\n",
       "       '3.8', '5.0', '4.5', '5.7', '3.5', '6.0', '5.2', '4.2', '3.7',\n",
       "       '5.9', '4.9', '4.8', '3.2', '3.0', '3.6', '4.0', '2.5', '4.1',\n",
       "       '6.2', '5.1', '6.5', '5.8', '4.4', '5.4', '3', '4.3', '4', '2.1',\n",
       "       '8.0', '5.3', '3.1', '2.3', '\\t?', '2.9', '6.3', '6.4', '2.4',\n",
       "       '2.7', '5'], dtype=object)"
      ]
     },
     "execution_count": 13,
     "metadata": {},
     "output_type": "execute_result"
    }
   ],
   "source": [
    "train_data1['rc'].unique()"
   ]
  },
  {
   "cell_type": "markdown",
   "id": "6b6531e4",
   "metadata": {},
   "source": [
    "#### There are some values like:----  nan,\\t?"
   ]
  },
  {
   "cell_type": "code",
   "execution_count": 14,
   "id": "ed37cde1",
   "metadata": {},
   "outputs": [],
   "source": [
    "#train_data1=train_data.copy()\n",
    "train_data1['wc']=pd.to_numeric(train_data1['wc'],errors='coerce')\n",
    "train_data1['rc']=pd.to_numeric(train_data1['rc'],errors='coerce')"
   ]
  },
  {
   "cell_type": "code",
   "execution_count": 15,
   "id": "4a0c5a3b",
   "metadata": {},
   "outputs": [
    {
     "name": "stdout",
     "output_type": "stream",
     "text": [
      "<class 'pandas.core.frame.DataFrame'>\n",
      "RangeIndex: 280 entries, 0 to 279\n",
      "Data columns (total 26 columns):\n",
      " #   Column          Non-Null Count  Dtype  \n",
      "---  ------          --------------  -----  \n",
      " 0   id              280 non-null    int64  \n",
      " 1   age             275 non-null    float64\n",
      " 2   bp              271 non-null    float64\n",
      " 3   sg              244 non-null    float64\n",
      " 4   al              245 non-null    float64\n",
      " 5   su              242 non-null    float64\n",
      " 6   rbc             173 non-null    object \n",
      " 7   pc              230 non-null    object \n",
      " 8   pcc             276 non-null    object \n",
      " 9   ba              276 non-null    object \n",
      " 10  bgr             247 non-null    float64\n",
      " 11  bu              266 non-null    float64\n",
      " 12  sc              268 non-null    float64\n",
      " 13  sod             213 non-null    float64\n",
      " 14  pot             212 non-null    float64\n",
      " 15  hemo            241 non-null    float64\n",
      " 16  pcv             229 non-null    float64\n",
      " 17  wc              202 non-null    float64\n",
      " 18  rc              186 non-null    float64\n",
      " 19  htn             279 non-null    object \n",
      " 20  dm              279 non-null    object \n",
      " 21  cad             279 non-null    object \n",
      " 22  appet           280 non-null    object \n",
      " 23  pe              280 non-null    object \n",
      " 24  ane             280 non-null    object \n",
      " 25  classification  280 non-null    object \n",
      "dtypes: float64(14), int64(1), object(11)\n",
      "memory usage: 57.0+ KB\n"
     ]
    }
   ],
   "source": [
    "train_data1.info()"
   ]
  },
  {
   "cell_type": "markdown",
   "id": "991e82f3",
   "metadata": {},
   "source": [
    "### Categorical Data analysis"
   ]
  },
  {
   "cell_type": "code",
   "execution_count": 16,
   "id": "d948748b",
   "metadata": {},
   "outputs": [
    {
     "data": {
      "text/plain": [
       "1.020    74\n",
       "1.010    61\n",
       "1.025    57\n",
       "1.015    48\n",
       "1.005     4\n",
       "Name: sg, dtype: int64"
      ]
     },
     "execution_count": 16,
     "metadata": {},
     "output_type": "execute_result"
    }
   ],
   "source": [
    "train_data1['sg'].value_counts()"
   ]
  },
  {
   "cell_type": "code",
   "execution_count": 17,
   "id": "980bc8c4",
   "metadata": {},
   "outputs": [
    {
     "data": {
      "text/plain": [
       "<matplotlib.axes._subplots.AxesSubplot at 0x1caacf11c40>"
      ]
     },
     "execution_count": 17,
     "metadata": {},
     "output_type": "execute_result"
    },
    {
     "data": {
      "image/png": "[encoded data removed]",
      "text/plain": [
       "<Figure size 1008x432 with 1 Axes>"
      ]
     },
     "metadata": {},
     "output_type": "display_data"
    }
   ],
   "source": [
    "plt.figure(figsize=(14,6))\n",
    "sns.countplot(x='sg',hue='classification',data=train_data1,order=train_data1['sg'].value_counts().index,palette='ocean')"
   ]
  },
  {
   "cell_type": "code",
   "execution_count": 18,
   "id": "f06261d8",
   "metadata": {},
   "outputs": [
    {
     "data": {
      "text/plain": [
       "<matplotlib.axes._subplots.AxesSubplot at 0x1caacf48b20>"
      ]
     },
     "execution_count": 18,
     "metadata": {},
     "output_type": "execute_result"
    },
    {
     "data": {
      "image/png": "[encoded data removed]",
      "text/plain": [
       "<Figure size 1008x432 with 1 Axes>"
      ]
     },
     "metadata": {},
     "output_type": "display_data"
    }
   ],
   "source": [
    "plt.figure(figsize=(14,6))\n",
    "sns.countplot(x='al',hue='classification',data=train_data1,order=train_data1['al'].value_counts().index,palette='ocean')"
   ]
  },
  {
   "cell_type": "code",
   "execution_count": 19,
   "id": "5d2e7f81",
   "metadata": {},
   "outputs": [
    {
     "data": {
      "text/plain": [
       "<matplotlib.axes._subplots.AxesSubplot at 0x1caacff23d0>"
      ]
     },
     "execution_count": 19,
     "metadata": {},
     "output_type": "execute_result"
    },
    {
     "data": {
      "image/png": "[encoded data removed]",
      "text/plain": [
       "<Figure size 1008x432 with 1 Axes>"
      ]
     },
     "metadata": {},
     "output_type": "display_data"
    }
   ],
   "source": [
    "plt.figure(figsize=(14,6))\n",
    "sns.countplot(x='su',hue='classification',data=train_data1,order=train_data1['su'].value_counts().index,palette='summer')"
   ]
  },
  {
   "cell_type": "code",
   "execution_count": 20,
   "id": "35efdf5d",
   "metadata": {},
   "outputs": [
    {
     "data": {
      "text/plain": [
       "<matplotlib.axes._subplots.AxesSubplot at 0x1caacff2550>"
      ]
     },
     "execution_count": 20,
     "metadata": {},
     "output_type": "execute_result"
    },
    {
     "data": {
      "image/png": "[encoded data removed]",
      "text/plain": [
       "<Figure size 1008x432 with 1 Axes>"
      ]
     },
     "metadata": {},
     "output_type": "display_data"
    }
   ],
   "source": [
    "plt.figure(figsize=(14,6))\n",
    "sns.countplot(x='su',hue='classification',data=train_data1,order=train_data1['su'].value_counts().index,palette='rocket')"
   ]
  },
  {
   "cell_type": "code",
   "execution_count": 21,
   "id": "04ff4f73",
   "metadata": {},
   "outputs": [
    {
     "data": {
      "text/plain": [
       "<matplotlib.axes._subplots.AxesSubplot at 0x1caad93d040>"
      ]
     },
     "execution_count": 21,
     "metadata": {},
     "output_type": "execute_result"
    },
    {
     "data": {
      "image/png": "[encoded data removed]",
      "text/plain": [
       "<Figure size 720x432 with 1 Axes>"
      ]
     },
     "metadata": {},
     "output_type": "display_data"
    }
   ],
   "source": [
    "plt.figure(figsize=(10,6))\n",
    "sns.countplot(x='pc',hue='classification',data=train_data1,order=train_data1['pc'].value_counts().index,palette='bwr')"
   ]
  },
  {
   "cell_type": "code",
   "execution_count": 22,
   "id": "c5e9cf45",
   "metadata": {},
   "outputs": [
    {
     "data": {
      "text/plain": [
       "<matplotlib.axes._subplots.AxesSubplot at 0x1caad793550>"
      ]
     },
     "execution_count": 22,
     "metadata": {},
     "output_type": "execute_result"
    },
    {
     "data": {
      "image/png": "[encoded data removed]",
      "text/plain": [
       "<Figure size 720x432 with 1 Axes>"
      ]
     },
     "metadata": {},
     "output_type": "display_data"
    }
   ],
   "source": [
    "plt.figure(figsize=(10,6))\n",
    "sns.countplot(x='pcc',hue='classification',data=train_data1,order=train_data1['pcc'].value_counts().index,palette='bwr')"
   ]
  },
  {
   "cell_type": "code",
   "execution_count": 23,
   "id": "c0781b08",
   "metadata": {},
   "outputs": [
    {
     "data": {
      "image/png": "[encoded data removed]",
      "text/plain": [
       "<Figure size 360x360 with 1 Axes>"
      ]
     },
     "metadata": {},
     "output_type": "display_data"
    },
    {
     "data": {
      "image/png": "[encoded data removed]",
      "text/plain": [
       "<Figure size 360x360 with 1 Axes>"
      ]
     },
     "metadata": {},
     "output_type": "display_data"
    },
    {
     "data": {
      "image/png": "[encoded data removed]",
      "text/plain": [
       "<Figure size 360x360 with 1 Axes>"
      ]
     },
     "metadata": {},
     "output_type": "display_data"
    },
    {
     "data": {
      "image/png": "[encoded data removed]",
      "text/plain": [
       "<Figure size 360x360 with 1 Axes>"
      ]
     },
     "metadata": {},
     "output_type": "display_data"
    },
    {
     "data": {
      "image/png": "[encoded data removed]",
      "text/plain": [
       "<Figure size 360x360 with 1 Axes>"
      ]
     },
     "metadata": {},
     "output_type": "display_data"
    },
    {
     "data": {
      "image/png": "[encoded data removed]",
      "text/plain": [
       "<Figure size 360x360 with 1 Axes>"
      ]
     },
     "metadata": {},
     "output_type": "display_data"
    },
    {
     "data": {
      "image/png": "[encoded data removed]",
      "text/plain": [
       "<Figure size 360x360 with 1 Axes>"
      ]
     },
     "metadata": {},
     "output_type": "display_data"
    }
   ],
   "source": [
    "cats=['ba','htn','dm','cad','appet','pe','ane']\n",
    "for i in cats:\n",
    "  plt.figure(figsize = (5,5))\n",
    "  sns.countplot(x = i, hue = 'classification', data = train_data1, order = train_data1[i].value_counts().index)\n",
    "  plt.title(i)"
   ]
  },
  {
   "cell_type": "markdown",
   "id": "e91d787f",
   "metadata": {},
   "source": [
    "1) For \"sg\" Values less than or equal to 1.015, there are only ckd cases ( that means, lower the sg values, more chances of Chronic kidney disease)\n",
    "\n",
    "2) For \"ai/\"su\" Values greater than or equal to 1, there are only ckd cases ( that means, higher the ai/su values, more chances of Chronic kidney disease)\n",
    "\n",
    "3) for \"rbc/pc\", if they are abnormal, then its CKD.\n",
    "\n",
    "4) for \"pcc/ba\", if they are present, then its CKD.\n",
    "\n",
    "5) There seems to be extra charcters ( spaces) for columns \"dm/cad\". We need to trim the values in these columns and correct them.\n",
    "\n",
    "6) for \"htn/dm/cad/pe/ane\", if they are yes, than its CKD.\n",
    "\n",
    "7) for \"appt\", if its good, then its CKD."
   ]
  },
  {
   "cell_type": "markdown",
   "id": "7d10d4c2",
   "metadata": {},
   "source": [
    "## Missing Values"
   ]
  },
  {
   "cell_type": "code",
   "execution_count": 24,
   "id": "970331a9",
   "metadata": {},
   "outputs": [
    {
     "data": {
      "text/plain": [
       "id                  0\n",
       "age                 5\n",
       "bp                  9\n",
       "sg                 36\n",
       "al                 35\n",
       "su                 38\n",
       "rbc               107\n",
       "pc                 50\n",
       "pcc                 4\n",
       "ba                  4\n",
       "bgr                33\n",
       "bu                 14\n",
       "sc                 12\n",
       "sod                67\n",
       "pot                68\n",
       "hemo               39\n",
       "pcv                51\n",
       "wc                 78\n",
       "rc                 94\n",
       "htn                 1\n",
       "dm                  1\n",
       "cad                 1\n",
       "appet               0\n",
       "pe                  0\n",
       "ane                 0\n",
       "classification      0\n",
       "dtype: int64"
      ]
     },
     "execution_count": 24,
     "metadata": {},
     "output_type": "execute_result"
    }
   ],
   "source": [
    "train_data1.isnull().sum()"
   ]
  },
  {
   "cell_type": "code",
   "execution_count": 25,
   "id": "931ff046",
   "metadata": {},
   "outputs": [
    {
     "data": {
      "text/plain": [
       "array(['yes', 'no', '\\tyes', '\\tno', nan], dtype=object)"
      ]
     },
     "execution_count": 25,
     "metadata": {},
     "output_type": "execute_result"
    }
   ],
   "source": [
    "train_data1['dm'].unique()"
   ]
  },
  {
   "cell_type": "code",
   "execution_count": 26,
   "id": "546e99b2",
   "metadata": {},
   "outputs": [],
   "source": [
    "train_data1['dm']=train_data1['dm'].replace('\\tyes','yes')\n",
    "train_data1['dm']=train_data1['dm'].replace('\\tno','no')"
   ]
  },
  {
   "cell_type": "code",
   "execution_count": 27,
   "id": "565c095c",
   "metadata": {},
   "outputs": [
    {
     "data": {
      "text/plain": [
       "array(['yes', 'no', nan], dtype=object)"
      ]
     },
     "execution_count": 27,
     "metadata": {},
     "output_type": "execute_result"
    }
   ],
   "source": [
    "train_data1['dm'].unique()"
   ]
  },
  {
   "cell_type": "code",
   "execution_count": 28,
   "id": "ad2179e3",
   "metadata": {},
   "outputs": [
    {
     "data": {
      "text/plain": [
       "array(['no', 'yes', nan, '\\tno'], dtype=object)"
      ]
     },
     "execution_count": 28,
     "metadata": {},
     "output_type": "execute_result"
    }
   ],
   "source": [
    "train_data1['cad'].unique()"
   ]
  },
  {
   "cell_type": "code",
   "execution_count": 29,
   "id": "e70c891e",
   "metadata": {},
   "outputs": [],
   "source": [
    "train_data1['cad']=train_data1['cad'].replace('\\tno','no')"
   ]
  },
  {
   "cell_type": "code",
   "execution_count": 30,
   "id": "3d7812aa",
   "metadata": {},
   "outputs": [
    {
     "data": {
      "text/plain": [
       "array(['no', 'yes', nan], dtype=object)"
      ]
     },
     "execution_count": 30,
     "metadata": {},
     "output_type": "execute_result"
    }
   ],
   "source": [
    "train_data1['cad'].unique()"
   ]
  },
  {
   "cell_type": "code",
   "execution_count": 31,
   "id": "c6d8125e",
   "metadata": {},
   "outputs": [
    {
     "data": {
      "text/plain": [
       "id                  0\n",
       "age                 5\n",
       "bp                  9\n",
       "sg                 36\n",
       "al                 35\n",
       "su                 38\n",
       "rbc               107\n",
       "pc                 50\n",
       "pcc                 4\n",
       "ba                  4\n",
       "bgr                33\n",
       "bu                 14\n",
       "sc                 12\n",
       "sod                67\n",
       "pot                68\n",
       "hemo               39\n",
       "pcv                51\n",
       "wc                 78\n",
       "rc                 94\n",
       "htn                 1\n",
       "dm                  1\n",
       "cad                 1\n",
       "appet               0\n",
       "pe                  0\n",
       "ane                 0\n",
       "classification      0\n",
       "dtype: int64"
      ]
     },
     "execution_count": 31,
     "metadata": {},
     "output_type": "execute_result"
    }
   ],
   "source": [
    "train_data1.isnull().sum()"
   ]
  },
  {
   "cell_type": "code",
   "execution_count": 32,
   "id": "9da46aa9",
   "metadata": {},
   "outputs": [
    {
     "name": "stdout",
     "output_type": "stream",
     "text": [
      "<class 'pandas.core.frame.DataFrame'>\n",
      "RangeIndex: 280 entries, 0 to 279\n",
      "Data columns (total 26 columns):\n",
      " #   Column          Non-Null Count  Dtype  \n",
      "---  ------          --------------  -----  \n",
      " 0   id              280 non-null    int64  \n",
      " 1   age             275 non-null    float64\n",
      " 2   bp              271 non-null    float64\n",
      " 3   sg              244 non-null    float64\n",
      " 4   al              245 non-null    float64\n",
      " 5   su              242 non-null    float64\n",
      " 6   rbc             173 non-null    object \n",
      " 7   pc              230 non-null    object \n",
      " 8   pcc             276 non-null    object \n",
      " 9   ba              276 non-null    object \n",
      " 10  bgr             247 non-null    float64\n",
      " 11  bu              266 non-null    float64\n",
      " 12  sc              268 non-null    float64\n",
      " 13  sod             213 non-null    float64\n",
      " 14  pot             212 non-null    float64\n",
      " 15  hemo            241 non-null    float64\n",
      " 16  pcv             229 non-null    float64\n",
      " 17  wc              202 non-null    float64\n",
      " 18  rc              186 non-null    float64\n",
      " 19  htn             279 non-null    object \n",
      " 20  dm              279 non-null    object \n",
      " 21  cad             279 non-null    object \n",
      " 22  appet           280 non-null    object \n",
      " 23  pe              280 non-null    object \n",
      " 24  ane             280 non-null    object \n",
      " 25  classification  280 non-null    object \n",
      "dtypes: float64(14), int64(1), object(11)\n",
      "memory usage: 57.0+ KB\n"
     ]
    }
   ],
   "source": [
    "train_data1.info()"
   ]
  },
  {
   "cell_type": "markdown",
   "id": "a28b7918",
   "metadata": {},
   "source": [
    "# ---------------------------------------------SLIDE-4---------------------------------------\n",
    "# Handling Missing Data\n",
    "## Median values for Numerical Data\n",
    "## Mode values for Categorical Data"
   ]
  },
  {
   "cell_type": "code",
   "execution_count": 33,
   "id": "c5e33eb0",
   "metadata": {},
   "outputs": [],
   "source": [
    "for j in num_var:\n",
    "    train_data1[j]=train_data1[j].fillna(train_data1[j].median())"
   ]
  },
  {
   "cell_type": "code",
   "execution_count": 34,
   "id": "a4abe632",
   "metadata": {},
   "outputs": [
    {
     "name": "stdout",
     "output_type": "stream",
     "text": [
      "<class 'pandas.core.frame.DataFrame'>\n",
      "RangeIndex: 280 entries, 0 to 279\n",
      "Data columns (total 26 columns):\n",
      " #   Column          Non-Null Count  Dtype  \n",
      "---  ------          --------------  -----  \n",
      " 0   id              280 non-null    int64  \n",
      " 1   age             280 non-null    float64\n",
      " 2   bp              280 non-null    float64\n",
      " 3   sg              244 non-null    float64\n",
      " 4   al              245 non-null    float64\n",
      " 5   su              242 non-null    float64\n",
      " 6   rbc             173 non-null    object \n",
      " 7   pc              230 non-null    object \n",
      " 8   pcc             276 non-null    object \n",
      " 9   ba              276 non-null    object \n",
      " 10  bgr             280 non-null    float64\n",
      " 11  bu              280 non-null    float64\n",
      " 12  sc              280 non-null    float64\n",
      " 13  sod             280 non-null    float64\n",
      " 14  pot             280 non-null    float64\n",
      " 15  hemo            280 non-null    float64\n",
      " 16  pcv             280 non-null    float64\n",
      " 17  wc              280 non-null    float64\n",
      " 18  rc              280 non-null    float64\n",
      " 19  htn             279 non-null    object \n",
      " 20  dm              279 non-null    object \n",
      " 21  cad             279 non-null    object \n",
      " 22  appet           280 non-null    object \n",
      " 23  pe              280 non-null    object \n",
      " 24  ane             280 non-null    object \n",
      " 25  classification  280 non-null    object \n",
      "dtypes: float64(14), int64(1), object(11)\n",
      "memory usage: 57.0+ KB\n"
     ]
    }
   ],
   "source": [
    "train_data1.info()"
   ]
  },
  {
   "cell_type": "code",
   "execution_count": 35,
   "id": "a277462e",
   "metadata": {},
   "outputs": [],
   "source": [
    "for k in cat_var:\n",
    "    train_data1[k]=train_data1[k].fillna(train_data1[k].mode()[0])"
   ]
  },
  {
   "cell_type": "code",
   "execution_count": 36,
   "id": "d18e4f9a",
   "metadata": {},
   "outputs": [
    {
     "name": "stdout",
     "output_type": "stream",
     "text": [
      "<class 'pandas.core.frame.DataFrame'>\n",
      "RangeIndex: 280 entries, 0 to 279\n",
      "Data columns (total 26 columns):\n",
      " #   Column          Non-Null Count  Dtype  \n",
      "---  ------          --------------  -----  \n",
      " 0   id              280 non-null    int64  \n",
      " 1   age             280 non-null    float64\n",
      " 2   bp              280 non-null    float64\n",
      " 3   sg              280 non-null    float64\n",
      " 4   al              280 non-null    float64\n",
      " 5   su              280 non-null    float64\n",
      " 6   rbc             280 non-null    object \n",
      " 7   pc              280 non-null    object \n",
      " 8   pcc             280 non-null    object \n",
      " 9   ba              280 non-null    object \n",
      " 10  bgr             280 non-null    float64\n",
      " 11  bu              280 non-null    float64\n",
      " 12  sc              280 non-null    float64\n",
      " 13  sod             280 non-null    float64\n",
      " 14  pot             280 non-null    float64\n",
      " 15  hemo            280 non-null    float64\n",
      " 16  pcv             280 non-null    float64\n",
      " 17  wc              280 non-null    float64\n",
      " 18  rc              280 non-null    float64\n",
      " 19  htn             280 non-null    object \n",
      " 20  dm              280 non-null    object \n",
      " 21  cad             280 non-null    object \n",
      " 22  appet           280 non-null    object \n",
      " 23  pe              280 non-null    object \n",
      " 24  ane             280 non-null    object \n",
      " 25  classification  280 non-null    object \n",
      "dtypes: float64(14), int64(1), object(11)\n",
      "memory usage: 57.0+ KB\n"
     ]
    }
   ],
   "source": [
    "train_data1.info()"
   ]
  },
  {
   "cell_type": "markdown",
   "id": "5c2e4ed4",
   "metadata": {},
   "source": [
    "# ----------------------------SLIDE-4----------------------------------------\n",
    "# Outliers\n",
    "\n",
    "## Detected Using Z-Score and Boxplot"
   ]
  },
  {
   "cell_type": "code",
   "execution_count": 37,
   "id": "8ccfcb39",
   "metadata": {},
   "outputs": [],
   "source": [
    "train_data1_num=train_data1[num_var].copy()"
   ]
  },
  {
   "cell_type": "code",
   "execution_count": 38,
   "id": "ad1930cd",
   "metadata": {},
   "outputs": [
    {
     "data": {
      "text/html": [
       "<div>\n",
       "<style scoped>\n",
       "    .dataframe tbody tr th:only-of-type {\n",
       "        vertical-align: middle;\n",
       "    }\n",
       "\n",
       "    .dataframe tbody tr th {\n",
       "        vertical-align: top;\n",
       "    }\n",
       "\n",
       "    .dataframe thead th {\n",
       "        text-align: right;\n",
       "    }\n",
       "</style>\n",
       "<table border=\"1\" class=\"dataframe\">\n",
       "  <thead>\n",
       "    <tr style=\"text-align: right;\">\n",
       "      <th></th>\n",
       "      <th>id</th>\n",
       "      <th>age</th>\n",
       "      <th>bp</th>\n",
       "      <th>bgr</th>\n",
       "      <th>bu</th>\n",
       "      <th>sc</th>\n",
       "      <th>sod</th>\n",
       "      <th>pot</th>\n",
       "      <th>hemo</th>\n",
       "      <th>pcv</th>\n",
       "      <th>wc</th>\n",
       "      <th>rc</th>\n",
       "    </tr>\n",
       "  </thead>\n",
       "  <tbody>\n",
       "    <tr>\n",
       "      <th>0</th>\n",
       "      <td>157</td>\n",
       "      <td>62.0</td>\n",
       "      <td>70.0</td>\n",
       "      <td>122.0</td>\n",
       "      <td>42.0</td>\n",
       "      <td>1.7</td>\n",
       "      <td>136.0</td>\n",
       "      <td>4.7</td>\n",
       "      <td>12.6</td>\n",
       "      <td>39.0</td>\n",
       "      <td>7900.0</td>\n",
       "      <td>3.9</td>\n",
       "    </tr>\n",
       "    <tr>\n",
       "      <th>1</th>\n",
       "      <td>109</td>\n",
       "      <td>54.0</td>\n",
       "      <td>70.0</td>\n",
       "      <td>233.0</td>\n",
       "      <td>50.1</td>\n",
       "      <td>1.9</td>\n",
       "      <td>138.0</td>\n",
       "      <td>4.4</td>\n",
       "      <td>11.7</td>\n",
       "      <td>41.0</td>\n",
       "      <td>7900.0</td>\n",
       "      <td>4.8</td>\n",
       "    </tr>\n",
       "    <tr>\n",
       "      <th>2</th>\n",
       "      <td>17</td>\n",
       "      <td>47.0</td>\n",
       "      <td>80.0</td>\n",
       "      <td>114.0</td>\n",
       "      <td>87.0</td>\n",
       "      <td>5.2</td>\n",
       "      <td>139.0</td>\n",
       "      <td>3.7</td>\n",
       "      <td>12.1</td>\n",
       "      <td>41.0</td>\n",
       "      <td>7900.0</td>\n",
       "      <td>4.8</td>\n",
       "    </tr>\n",
       "    <tr>\n",
       "      <th>3</th>\n",
       "      <td>347</td>\n",
       "      <td>43.0</td>\n",
       "      <td>60.0</td>\n",
       "      <td>108.0</td>\n",
       "      <td>25.0</td>\n",
       "      <td>1.0</td>\n",
       "      <td>144.0</td>\n",
       "      <td>5.0</td>\n",
       "      <td>17.8</td>\n",
       "      <td>43.0</td>\n",
       "      <td>7200.0</td>\n",
       "      <td>5.5</td>\n",
       "    </tr>\n",
       "    <tr>\n",
       "      <th>4</th>\n",
       "      <td>24</td>\n",
       "      <td>42.0</td>\n",
       "      <td>100.0</td>\n",
       "      <td>124.0</td>\n",
       "      <td>50.0</td>\n",
       "      <td>1.4</td>\n",
       "      <td>129.0</td>\n",
       "      <td>4.0</td>\n",
       "      <td>11.1</td>\n",
       "      <td>39.0</td>\n",
       "      <td>8300.0</td>\n",
       "      <td>4.6</td>\n",
       "    </tr>\n",
       "  </tbody>\n",
       "</table>\n",
       "</div>"
      ],
      "text/plain": [
       "    id   age     bp    bgr    bu   sc    sod  pot  hemo   pcv      wc   rc\n",
       "0  157  62.0   70.0  122.0  42.0  1.7  136.0  4.7  12.6  39.0  7900.0  3.9\n",
       "1  109  54.0   70.0  233.0  50.1  1.9  138.0  4.4  11.7  41.0  7900.0  4.8\n",
       "2   17  47.0   80.0  114.0  87.0  5.2  139.0  3.7  12.1  41.0  7900.0  4.8\n",
       "3  347  43.0   60.0  108.0  25.0  1.0  144.0  5.0  17.8  43.0  7200.0  5.5\n",
       "4   24  42.0  100.0  124.0  50.0  1.4  129.0  4.0  11.1  39.0  8300.0  4.6"
      ]
     },
     "execution_count": 38,
     "metadata": {},
     "output_type": "execute_result"
    }
   ],
   "source": [
    "train_data1_num.head()"
   ]
  },
  {
   "cell_type": "code",
   "execution_count": 39,
   "id": "199ac642",
   "metadata": {},
   "outputs": [
    {
     "data": {
      "text/plain": [
       "(280, 12)"
      ]
     },
     "execution_count": 39,
     "metadata": {},
     "output_type": "execute_result"
    }
   ],
   "source": [
    "train_data1_num.shape"
   ]
  },
  {
   "cell_type": "code",
   "execution_count": 40,
   "id": "1ac9ef2f",
   "metadata": {},
   "outputs": [
    {
     "data": {
      "image/png": "[encoded data removed]",
      "text/plain": [
       "<Figure size 1008x144 with 1 Axes>"
      ]
     },
     "metadata": {},
     "output_type": "display_data"
    },
    {
     "data": {
      "image/png": "[encoded data removed]",
      "text/plain": [
       "<Figure size 1008x144 with 1 Axes>"
      ]
     },
     "metadata": {},
     "output_type": "display_data"
    },
    {
     "data": {
      "image/png": "[encoded data removed]",
      "text/plain": [
       "<Figure size 1008x144 with 1 Axes>"
      ]
     },
     "metadata": {},
     "output_type": "display_data"
    },
    {
     "data": {
      "image/png": "[encoded data removed]",
      "text/plain": [
       "<Figure size 1008x144 with 1 Axes>"
      ]
     },
     "metadata": {},
     "output_type": "display_data"
    },
    {
     "data": {
      "image/png": "[encoded data removed]",
      "text/plain": [
       "<Figure size 1008x144 with 1 Axes>"
      ]
     },
     "metadata": {},
     "output_type": "display_data"
    },
    {
     "data": {
      "image/png": "[encoded data removed]",
      "text/plain": [
       "<Figure size 1008x144 with 1 Axes>"
      ]
     },
     "metadata": {},
     "output_type": "display_data"
    },
    {
     "data": {
      "image/png": "[encoded data removed]",
      "text/plain": [
       "<Figure size 1008x144 with 1 Axes>"
      ]
     },
     "metadata": {},
     "output_type": "display_data"
    },
    {
     "data": {
      "image/png": "[encoded data removed]",
      "text/plain": [
       "<Figure size 1008x144 with 1 Axes>"
      ]
     },
     "metadata": {},
     "output_type": "display_data"
    },
    {
     "data": {
      "image/png": "[encoded data removed]",
      "text/plain": [
       "<Figure size 1008x144 with 1 Axes>"
      ]
     },
     "metadata": {},
     "output_type": "display_data"
    },
    {
     "data": {
      "image/png": "[encoded data removed]",
      "text/plain": [
       "<Figure size 1008x144 with 1 Axes>"
      ]
     },
     "metadata": {},
     "output_type": "display_data"
    },
    {
     "data": {
      "image/png": "[encoded data removed]",
      "text/plain": [
       "<Figure size 1008x144 with 1 Axes>"
      ]
     },
     "metadata": {},
     "output_type": "display_data"
    },
    {
     "data": {
      "image/png": "[encoded data removed]",
      "text/plain": [
       "<Figure size 1008x144 with 1 Axes>"
      ]
     },
     "metadata": {},
     "output_type": "display_data"
    }
   ],
   "source": [
    "for e in train_data1_num.columns:\n",
    "    plt.figure(figsize=(14,2))\n",
    "    sns.boxplot(x=train_data1_num[e])"
   ]
  },
  {
   "cell_type": "code",
   "execution_count": 41,
   "id": "f80153f0",
   "metadata": {},
   "outputs": [],
   "source": [
    "from scipy.stats import zscore\n",
    "train_data1_zscores=train_data1_num.apply(zscore)"
   ]
  },
  {
   "cell_type": "markdown",
   "id": "4bfeca2d",
   "metadata": {},
   "source": [
    "#### Z-Score is between -3 and 3"
   ]
  },
  {
   "cell_type": "code",
   "execution_count": 42,
   "id": "de03b2ad",
   "metadata": {},
   "outputs": [
    {
     "data": {
      "text/html": [
       "<div>\n",
       "<style scoped>\n",
       "    .dataframe tbody tr th:only-of-type {\n",
       "        vertical-align: middle;\n",
       "    }\n",
       "\n",
       "    .dataframe tbody tr th {\n",
       "        vertical-align: top;\n",
       "    }\n",
       "\n",
       "    .dataframe thead th {\n",
       "        text-align: right;\n",
       "    }\n",
       "</style>\n",
       "<table border=\"1\" class=\"dataframe\">\n",
       "  <thead>\n",
       "    <tr style=\"text-align: right;\">\n",
       "      <th></th>\n",
       "      <th>id</th>\n",
       "      <th>age</th>\n",
       "      <th>bp</th>\n",
       "      <th>bgr</th>\n",
       "      <th>bu</th>\n",
       "      <th>sc</th>\n",
       "      <th>sod</th>\n",
       "      <th>pot</th>\n",
       "      <th>hemo</th>\n",
       "      <th>pcv</th>\n",
       "      <th>wc</th>\n",
       "      <th>rc</th>\n",
       "    </tr>\n",
       "  </thead>\n",
       "  <tbody>\n",
       "    <tr>\n",
       "      <th>11</th>\n",
       "      <td>-0.518200</td>\n",
       "      <td>0.316991</td>\n",
       "      <td>1.007324</td>\n",
       "      <td>-0.316445</td>\n",
       "      <td>5.297192</td>\n",
       "      <td>1.759003</td>\n",
       "      <td>-1.124757</td>\n",
       "      <td>0.039634</td>\n",
       "      <td>-1.706351</td>\n",
       "      <td>-1.949834</td>\n",
       "      <td>-1.525581</td>\n",
       "      <td>-1.716211</td>\n",
       "    </tr>\n",
       "    <tr>\n",
       "      <th>30</th>\n",
       "      <td>-1.761625</td>\n",
       "      <td>0.953039</td>\n",
       "      <td>-0.417175</td>\n",
       "      <td>-0.645219</td>\n",
       "      <td>-0.043536</td>\n",
       "      <td>3.681036</td>\n",
       "      <td>-3.288900</td>\n",
       "      <td>-0.200963</td>\n",
       "      <td>-0.058065</td>\n",
       "      <td>-0.440285</td>\n",
       "      <td>-0.124303</td>\n",
       "      <td>0.074173</td>\n",
       "    </tr>\n",
       "    <tr>\n",
       "      <th>34</th>\n",
       "      <td>-1.725843</td>\n",
       "      <td>-0.087766</td>\n",
       "      <td>-1.129424</td>\n",
       "      <td>4.697359</td>\n",
       "      <td>-0.023608</td>\n",
       "      <td>0.186431</td>\n",
       "      <td>0.055685</td>\n",
       "      <td>-0.080664</td>\n",
       "      <td>-1.181896</td>\n",
       "      <td>-1.446651</td>\n",
       "      <td>-0.124303</td>\n",
       "      <td>0.074173</td>\n",
       "    </tr>\n",
       "    <tr>\n",
       "      <th>36</th>\n",
       "      <td>-0.893911</td>\n",
       "      <td>1.415620</td>\n",
       "      <td>-0.417175</td>\n",
       "      <td>1.080845</td>\n",
       "      <td>3.204743</td>\n",
       "      <td>1.269759</td>\n",
       "      <td>0.055685</td>\n",
       "      <td>-0.080664</td>\n",
       "      <td>-0.882208</td>\n",
       "      <td>-0.440285</td>\n",
       "      <td>1.693572</td>\n",
       "      <td>-0.641981</td>\n",
       "    </tr>\n",
       "    <tr>\n",
       "      <th>57</th>\n",
       "      <td>0.313732</td>\n",
       "      <td>1.184330</td>\n",
       "      <td>1.719573</td>\n",
       "      <td>0.738372</td>\n",
       "      <td>3.683017</td>\n",
       "      <td>1.828895</td>\n",
       "      <td>-1.026387</td>\n",
       "      <td>0.039634</td>\n",
       "      <td>-1.181896</td>\n",
       "      <td>-1.446651</td>\n",
       "      <td>-0.124303</td>\n",
       "      <td>0.074173</td>\n",
       "    </tr>\n",
       "    <tr>\n",
       "      <th>62</th>\n",
       "      <td>-0.723947</td>\n",
       "      <td>-1.012927</td>\n",
       "      <td>-0.417175</td>\n",
       "      <td>-0.316445</td>\n",
       "      <td>3.244599</td>\n",
       "      <td>1.619219</td>\n",
       "      <td>-0.731277</td>\n",
       "      <td>-0.261112</td>\n",
       "      <td>-2.455572</td>\n",
       "      <td>0.188694</td>\n",
       "      <td>-0.124303</td>\n",
       "      <td>0.074173</td>\n",
       "    </tr>\n",
       "    <tr>\n",
       "      <th>64</th>\n",
       "      <td>-1.215949</td>\n",
       "      <td>-0.376879</td>\n",
       "      <td>0.295075</td>\n",
       "      <td>3.806929</td>\n",
       "      <td>-0.302601</td>\n",
       "      <td>-0.285341</td>\n",
       "      <td>0.055685</td>\n",
       "      <td>-0.080664</td>\n",
       "      <td>0.054319</td>\n",
       "      <td>0.188694</td>\n",
       "      <td>-0.124303</td>\n",
       "      <td>0.074173</td>\n",
       "    </tr>\n",
       "    <tr>\n",
       "      <th>65</th>\n",
       "      <td>-0.044089</td>\n",
       "      <td>0.432637</td>\n",
       "      <td>1.719573</td>\n",
       "      <td>1.437017</td>\n",
       "      <td>-0.322529</td>\n",
       "      <td>0.046647</td>\n",
       "      <td>-0.042686</td>\n",
       "      <td>0.009559</td>\n",
       "      <td>-0.507597</td>\n",
       "      <td>-1.195060</td>\n",
       "      <td>6.882090</td>\n",
       "      <td>-1.000057</td>\n",
       "    </tr>\n",
       "    <tr>\n",
       "      <th>73</th>\n",
       "      <td>-1.045985</td>\n",
       "      <td>0.259169</td>\n",
       "      <td>0.295075</td>\n",
       "      <td>3.669940</td>\n",
       "      <td>-0.382313</td>\n",
       "      <td>-0.180503</td>\n",
       "      <td>0.055685</td>\n",
       "      <td>-0.080664</td>\n",
       "      <td>0.054319</td>\n",
       "      <td>0.188694</td>\n",
       "      <td>-0.124303</td>\n",
       "      <td>0.074173</td>\n",
       "    </tr>\n",
       "    <tr>\n",
       "      <th>83</th>\n",
       "      <td>0.072203</td>\n",
       "      <td>0.143524</td>\n",
       "      <td>3.144071</td>\n",
       "      <td>-0.604122</td>\n",
       "      <td>-0.760947</td>\n",
       "      <td>-0.302814</td>\n",
       "      <td>0.055685</td>\n",
       "      <td>-0.080664</td>\n",
       "      <td>0.054319</td>\n",
       "      <td>0.188694</td>\n",
       "      <td>-0.124303</td>\n",
       "      <td>0.074173</td>\n",
       "    </tr>\n",
       "    <tr>\n",
       "      <th>87</th>\n",
       "      <td>-1.716898</td>\n",
       "      <td>0.663927</td>\n",
       "      <td>-0.417175</td>\n",
       "      <td>3.190478</td>\n",
       "      <td>0.076033</td>\n",
       "      <td>-0.040718</td>\n",
       "      <td>-0.632906</td>\n",
       "      <td>-0.140814</td>\n",
       "      <td>-0.657442</td>\n",
       "      <td>-0.943468</td>\n",
       "      <td>-1.411964</td>\n",
       "      <td>-1.119416</td>\n",
       "    </tr>\n",
       "    <tr>\n",
       "      <th>108</th>\n",
       "      <td>-1.797407</td>\n",
       "      <td>0.606104</td>\n",
       "      <td>0.295075</td>\n",
       "      <td>3.779532</td>\n",
       "      <td>-0.063464</td>\n",
       "      <td>-0.197976</td>\n",
       "      <td>0.055685</td>\n",
       "      <td>-0.080664</td>\n",
       "      <td>-1.106974</td>\n",
       "      <td>-1.069264</td>\n",
       "      <td>-0.275792</td>\n",
       "      <td>0.074173</td>\n",
       "    </tr>\n",
       "    <tr>\n",
       "      <th>128</th>\n",
       "      <td>0.412132</td>\n",
       "      <td>0.259169</td>\n",
       "      <td>1.007324</td>\n",
       "      <td>0.395899</td>\n",
       "      <td>5.038127</td>\n",
       "      <td>1.811422</td>\n",
       "      <td>-1.321498</td>\n",
       "      <td>0.550903</td>\n",
       "      <td>-3.541943</td>\n",
       "      <td>-3.836771</td>\n",
       "      <td>-1.071112</td>\n",
       "      <td>-3.148518</td>\n",
       "    </tr>\n",
       "    <tr>\n",
       "      <th>130</th>\n",
       "      <td>-0.625546</td>\n",
       "      <td>1.068685</td>\n",
       "      <td>1.719573</td>\n",
       "      <td>-0.398639</td>\n",
       "      <td>1.371359</td>\n",
       "      <td>0.413580</td>\n",
       "      <td>-0.141056</td>\n",
       "      <td>0.069709</td>\n",
       "      <td>-0.207909</td>\n",
       "      <td>-0.314489</td>\n",
       "      <td>0.065059</td>\n",
       "      <td>3.893659</td>\n",
       "    </tr>\n",
       "    <tr>\n",
       "      <th>131</th>\n",
       "      <td>0.367405</td>\n",
       "      <td>0.721749</td>\n",
       "      <td>1.007324</td>\n",
       "      <td>4.327488</td>\n",
       "      <td>0.155745</td>\n",
       "      <td>-0.023245</td>\n",
       "      <td>-0.239426</td>\n",
       "      <td>-0.170888</td>\n",
       "      <td>-0.132987</td>\n",
       "      <td>0.062898</td>\n",
       "      <td>0.595273</td>\n",
       "      <td>-0.164545</td>\n",
       "    </tr>\n",
       "    <tr>\n",
       "      <th>144</th>\n",
       "      <td>-0.294563</td>\n",
       "      <td>0.837394</td>\n",
       "      <td>-0.417175</td>\n",
       "      <td>4.108306</td>\n",
       "      <td>-0.302601</td>\n",
       "      <td>-0.215449</td>\n",
       "      <td>-0.632906</td>\n",
       "      <td>-0.231038</td>\n",
       "      <td>-0.020604</td>\n",
       "      <td>-0.817672</td>\n",
       "      <td>0.519528</td>\n",
       "      <td>-0.403263</td>\n",
       "    </tr>\n",
       "    <tr>\n",
       "      <th>168</th>\n",
       "      <td>-0.938639</td>\n",
       "      <td>-0.087766</td>\n",
       "      <td>4.568570</td>\n",
       "      <td>-0.631520</td>\n",
       "      <td>0.992725</td>\n",
       "      <td>0.623257</td>\n",
       "      <td>-0.239426</td>\n",
       "      <td>-0.110739</td>\n",
       "      <td>-2.380650</td>\n",
       "      <td>-2.704609</td>\n",
       "      <td>-0.919623</td>\n",
       "      <td>-2.909800</td>\n",
       "    </tr>\n",
       "    <tr>\n",
       "      <th>170</th>\n",
       "      <td>-1.269622</td>\n",
       "      <td>0.895217</td>\n",
       "      <td>0.295075</td>\n",
       "      <td>0.478092</td>\n",
       "      <td>6.672230</td>\n",
       "      <td>5.078878</td>\n",
       "      <td>2.514938</td>\n",
       "      <td>10.325162</td>\n",
       "      <td>0.054319</td>\n",
       "      <td>0.188694</td>\n",
       "      <td>-0.124303</td>\n",
       "      <td>0.074173</td>\n",
       "    </tr>\n",
       "    <tr>\n",
       "      <th>186</th>\n",
       "      <td>-0.670274</td>\n",
       "      <td>0.027879</td>\n",
       "      <td>1.007324</td>\n",
       "      <td>1.053447</td>\n",
       "      <td>2.188410</td>\n",
       "      <td>0.465999</td>\n",
       "      <td>-0.436166</td>\n",
       "      <td>12.731134</td>\n",
       "      <td>-1.668890</td>\n",
       "      <td>-2.075630</td>\n",
       "      <td>-1.222602</td>\n",
       "      <td>-2.193647</td>\n",
       "    </tr>\n",
       "    <tr>\n",
       "      <th>212</th>\n",
       "      <td>-0.115653</td>\n",
       "      <td>-2.631958</td>\n",
       "      <td>-1.129424</td>\n",
       "      <td>-0.727413</td>\n",
       "      <td>0.215529</td>\n",
       "      <td>-0.337760</td>\n",
       "      <td>-0.239426</td>\n",
       "      <td>0.069709</td>\n",
       "      <td>-0.994591</td>\n",
       "      <td>-1.195060</td>\n",
       "      <td>3.208468</td>\n",
       "      <td>0.074173</td>\n",
       "    </tr>\n",
       "    <tr>\n",
       "      <th>218</th>\n",
       "      <td>-1.376969</td>\n",
       "      <td>0.490459</td>\n",
       "      <td>-0.417175</td>\n",
       "      <td>-0.042467</td>\n",
       "      <td>0.315170</td>\n",
       "      <td>0.011701</td>\n",
       "      <td>0.055685</td>\n",
       "      <td>-0.080664</td>\n",
       "      <td>-1.069513</td>\n",
       "      <td>-1.320855</td>\n",
       "      <td>5.064215</td>\n",
       "      <td>-1.477493</td>\n",
       "    </tr>\n",
       "    <tr>\n",
       "      <th>249</th>\n",
       "      <td>-1.385914</td>\n",
       "      <td>1.242152</td>\n",
       "      <td>-0.417175</td>\n",
       "      <td>-1.056187</td>\n",
       "      <td>-0.481954</td>\n",
       "      <td>-0.355233</td>\n",
       "      <td>-1.223127</td>\n",
       "      <td>-0.200963</td>\n",
       "      <td>-0.957130</td>\n",
       "      <td>-1.320855</td>\n",
       "      <td>4.041661</td>\n",
       "      <td>-1.477493</td>\n",
       "    </tr>\n",
       "    <tr>\n",
       "      <th>253</th>\n",
       "      <td>-1.627443</td>\n",
       "      <td>0.490459</td>\n",
       "      <td>1.007324</td>\n",
       "      <td>-0.316445</td>\n",
       "      <td>2.467404</td>\n",
       "      <td>12.767010</td>\n",
       "      <td>-13.076730</td>\n",
       "      <td>-0.080664</td>\n",
       "      <td>-0.619980</td>\n",
       "      <td>-0.943468</td>\n",
       "      <td>-0.768133</td>\n",
       "      <td>-1.358134</td>\n",
       "    </tr>\n",
       "    <tr>\n",
       "      <th>263</th>\n",
       "      <td>-0.652383</td>\n",
       "      <td>-0.087766</td>\n",
       "      <td>1.007324</td>\n",
       "      <td>-0.261649</td>\n",
       "      <td>3.025390</td>\n",
       "      <td>1.095028</td>\n",
       "      <td>-0.337796</td>\n",
       "      <td>0.039634</td>\n",
       "      <td>-1.631429</td>\n",
       "      <td>-2.201426</td>\n",
       "      <td>3.056978</td>\n",
       "      <td>-2.432365</td>\n",
       "    </tr>\n",
       "    <tr>\n",
       "      <th>266</th>\n",
       "      <td>-0.929693</td>\n",
       "      <td>0.259169</td>\n",
       "      <td>7.417566</td>\n",
       "      <td>2.067167</td>\n",
       "      <td>-0.641378</td>\n",
       "      <td>-0.302814</td>\n",
       "      <td>0.154055</td>\n",
       "      <td>-0.231038</td>\n",
       "      <td>-0.507597</td>\n",
       "      <td>-0.943468</td>\n",
       "      <td>0.822507</td>\n",
       "      <td>-0.641981</td>\n",
       "    </tr>\n",
       "  </tbody>\n",
       "</table>\n",
       "</div>"
      ],
      "text/plain": [
       "           id       age        bp       bgr        bu         sc        sod  \\\n",
       "11  -0.518200  0.316991  1.007324 -0.316445  5.297192   1.759003  -1.124757   \n",
       "30  -1.761625  0.953039 -0.417175 -0.645219 -0.043536   3.681036  -3.288900   \n",
       "34  -1.725843 -0.087766 -1.129424  4.697359 -0.023608   0.186431   0.055685   \n",
       "36  -0.893911  1.415620 -0.417175  1.080845  3.204743   1.269759   0.055685   \n",
       "57   0.313732  1.184330  1.719573  0.738372  3.683017   1.828895  -1.026387   \n",
       "62  -0.723947 -1.012927 -0.417175 -0.316445  3.244599   1.619219  -0.731277   \n",
       "64  -1.215949 -0.376879  0.295075  3.806929 -0.302601  -0.285341   0.055685   \n",
       "65  -0.044089  0.432637  1.719573  1.437017 -0.322529   0.046647  -0.042686   \n",
       "73  -1.045985  0.259169  0.295075  3.669940 -0.382313  -0.180503   0.055685   \n",
       "83   0.072203  0.143524  3.144071 -0.604122 -0.760947  -0.302814   0.055685   \n",
       "87  -1.716898  0.663927 -0.417175  3.190478  0.076033  -0.040718  -0.632906   \n",
       "108 -1.797407  0.606104  0.295075  3.779532 -0.063464  -0.197976   0.055685   \n",
       "128  0.412132  0.259169  1.007324  0.395899  5.038127   1.811422  -1.321498   \n",
       "130 -0.625546  1.068685  1.719573 -0.398639  1.371359   0.413580  -0.141056   \n",
       "131  0.367405  0.721749  1.007324  4.327488  0.155745  -0.023245  -0.239426   \n",
       "144 -0.294563  0.837394 -0.417175  4.108306 -0.302601  -0.215449  -0.632906   \n",
       "168 -0.938639 -0.087766  4.568570 -0.631520  0.992725   0.623257  -0.239426   \n",
       "170 -1.269622  0.895217  0.295075  0.478092  6.672230   5.078878   2.514938   \n",
       "186 -0.670274  0.027879  1.007324  1.053447  2.188410   0.465999  -0.436166   \n",
       "212 -0.115653 -2.631958 -1.129424 -0.727413  0.215529  -0.337760  -0.239426   \n",
       "218 -1.376969  0.490459 -0.417175 -0.042467  0.315170   0.011701   0.055685   \n",
       "249 -1.385914  1.242152 -0.417175 -1.056187 -0.481954  -0.355233  -1.223127   \n",
       "253 -1.627443  0.490459  1.007324 -0.316445  2.467404  12.767010 -13.076730   \n",
       "263 -0.652383 -0.087766  1.007324 -0.261649  3.025390   1.095028  -0.337796   \n",
       "266 -0.929693  0.259169  7.417566  2.067167 -0.641378  -0.302814   0.154055   \n",
       "\n",
       "           pot      hemo       pcv        wc        rc  \n",
       "11    0.039634 -1.706351 -1.949834 -1.525581 -1.716211  \n",
       "30   -0.200963 -0.058065 -0.440285 -0.124303  0.074173  \n",
       "34   -0.080664 -1.181896 -1.446651 -0.124303  0.074173  \n",
       "36   -0.080664 -0.882208 -0.440285  1.693572 -0.641981  \n",
       "57    0.039634 -1.181896 -1.446651 -0.124303  0.074173  \n",
       "62   -0.261112 -2.455572  0.188694 -0.124303  0.074173  \n",
       "64   -0.080664  0.054319  0.188694 -0.124303  0.074173  \n",
       "65    0.009559 -0.507597 -1.195060  6.882090 -1.000057  \n",
       "73   -0.080664  0.054319  0.188694 -0.124303  0.074173  \n",
       "83   -0.080664  0.054319  0.188694 -0.124303  0.074173  \n",
       "87   -0.140814 -0.657442 -0.943468 -1.411964 -1.119416  \n",
       "108  -0.080664 -1.106974 -1.069264 -0.275792  0.074173  \n",
       "128   0.550903 -3.541943 -3.836771 -1.071112 -3.148518  \n",
       "130   0.069709 -0.207909 -0.314489  0.065059  3.893659  \n",
       "131  -0.170888 -0.132987  0.062898  0.595273 -0.164545  \n",
       "144  -0.231038 -0.020604 -0.817672  0.519528 -0.403263  \n",
       "168  -0.110739 -2.380650 -2.704609 -0.919623 -2.909800  \n",
       "170  10.325162  0.054319  0.188694 -0.124303  0.074173  \n",
       "186  12.731134 -1.668890 -2.075630 -1.222602 -2.193647  \n",
       "212   0.069709 -0.994591 -1.195060  3.208468  0.074173  \n",
       "218  -0.080664 -1.069513 -1.320855  5.064215 -1.477493  \n",
       "249  -0.200963 -0.957130 -1.320855  4.041661 -1.477493  \n",
       "253  -0.080664 -0.619980 -0.943468 -0.768133 -1.358134  \n",
       "263   0.039634 -1.631429 -2.201426  3.056978 -2.432365  \n",
       "266  -0.231038 -0.507597 -0.943468  0.822507 -0.641981  "
      ]
     },
     "execution_count": 42,
     "metadata": {},
     "output_type": "execute_result"
    }
   ],
   "source": [
    "train_data1_zscores[~(np.abs(train_data1_zscores) < 3).all(axis=1)]"
   ]
  },
  {
   "cell_type": "code",
   "execution_count": 43,
   "id": "d9bd3819",
   "metadata": {},
   "outputs": [
    {
     "data": {
      "text/plain": [
       "(25, 12)"
      ]
     },
     "execution_count": 43,
     "metadata": {},
     "output_type": "execute_result"
    }
   ],
   "source": [
    "train_data1_zscores[~(np.abs(train_data1_zscores)<3).all(axis=1)].shape"
   ]
  },
  {
   "cell_type": "code",
   "execution_count": 44,
   "id": "76c7a69c",
   "metadata": {},
   "outputs": [],
   "source": [
    "from scipy import stats\n",
    "for x in num_var:\n",
    "    train_data1.loc[(np.abs(stats.zscore(train_data1_num[x]))>=3),x]=train_data1[x].median()"
   ]
  },
  {
   "cell_type": "code",
   "execution_count": 45,
   "id": "0df0391c",
   "metadata": {},
   "outputs": [
    {
     "data": {
      "text/html": [
       "<div>\n",
       "<style scoped>\n",
       "    .dataframe tbody tr th:only-of-type {\n",
       "        vertical-align: middle;\n",
       "    }\n",
       "\n",
       "    .dataframe tbody tr th {\n",
       "        vertical-align: top;\n",
       "    }\n",
       "\n",
       "    .dataframe thead th {\n",
       "        text-align: right;\n",
       "    }\n",
       "</style>\n",
       "<table border=\"1\" class=\"dataframe\">\n",
       "  <thead>\n",
       "    <tr style=\"text-align: right;\">\n",
       "      <th></th>\n",
       "      <th>id</th>\n",
       "      <th>age</th>\n",
       "      <th>bp</th>\n",
       "      <th>sg</th>\n",
       "      <th>al</th>\n",
       "      <th>su</th>\n",
       "      <th>rbc</th>\n",
       "      <th>pc</th>\n",
       "      <th>pcc</th>\n",
       "      <th>ba</th>\n",
       "      <th>...</th>\n",
       "      <th>pcv</th>\n",
       "      <th>wc</th>\n",
       "      <th>rc</th>\n",
       "      <th>htn</th>\n",
       "      <th>dm</th>\n",
       "      <th>cad</th>\n",
       "      <th>appet</th>\n",
       "      <th>pe</th>\n",
       "      <th>ane</th>\n",
       "      <th>classification</th>\n",
       "    </tr>\n",
       "  </thead>\n",
       "  <tbody>\n",
       "    <tr>\n",
       "      <th>0</th>\n",
       "      <td>157.0</td>\n",
       "      <td>62.0</td>\n",
       "      <td>70.0</td>\n",
       "      <td>1.025</td>\n",
       "      <td>3.0</td>\n",
       "      <td>0.0</td>\n",
       "      <td>normal</td>\n",
       "      <td>abnormal</td>\n",
       "      <td>notpresent</td>\n",
       "      <td>notpresent</td>\n",
       "      <td>...</td>\n",
       "      <td>39.0</td>\n",
       "      <td>7900.0</td>\n",
       "      <td>3.9</td>\n",
       "      <td>yes</td>\n",
       "      <td>yes</td>\n",
       "      <td>no</td>\n",
       "      <td>good</td>\n",
       "      <td>no</td>\n",
       "      <td>no</td>\n",
       "      <td>ckd</td>\n",
       "    </tr>\n",
       "    <tr>\n",
       "      <th>1</th>\n",
       "      <td>109.0</td>\n",
       "      <td>54.0</td>\n",
       "      <td>70.0</td>\n",
       "      <td>1.020</td>\n",
       "      <td>0.0</td>\n",
       "      <td>0.0</td>\n",
       "      <td>normal</td>\n",
       "      <td>normal</td>\n",
       "      <td>notpresent</td>\n",
       "      <td>notpresent</td>\n",
       "      <td>...</td>\n",
       "      <td>41.0</td>\n",
       "      <td>7900.0</td>\n",
       "      <td>4.8</td>\n",
       "      <td>no</td>\n",
       "      <td>yes</td>\n",
       "      <td>no</td>\n",
       "      <td>good</td>\n",
       "      <td>no</td>\n",
       "      <td>no</td>\n",
       "      <td>ckd</td>\n",
       "    </tr>\n",
       "    <tr>\n",
       "      <th>2</th>\n",
       "      <td>17.0</td>\n",
       "      <td>47.0</td>\n",
       "      <td>80.0</td>\n",
       "      <td>1.020</td>\n",
       "      <td>0.0</td>\n",
       "      <td>0.0</td>\n",
       "      <td>normal</td>\n",
       "      <td>normal</td>\n",
       "      <td>notpresent</td>\n",
       "      <td>notpresent</td>\n",
       "      <td>...</td>\n",
       "      <td>41.0</td>\n",
       "      <td>7900.0</td>\n",
       "      <td>4.8</td>\n",
       "      <td>yes</td>\n",
       "      <td>no</td>\n",
       "      <td>no</td>\n",
       "      <td>poor</td>\n",
       "      <td>no</td>\n",
       "      <td>no</td>\n",
       "      <td>ckd</td>\n",
       "    </tr>\n",
       "    <tr>\n",
       "      <th>3</th>\n",
       "      <td>347.0</td>\n",
       "      <td>43.0</td>\n",
       "      <td>60.0</td>\n",
       "      <td>1.025</td>\n",
       "      <td>0.0</td>\n",
       "      <td>0.0</td>\n",
       "      <td>normal</td>\n",
       "      <td>normal</td>\n",
       "      <td>notpresent</td>\n",
       "      <td>notpresent</td>\n",
       "      <td>...</td>\n",
       "      <td>43.0</td>\n",
       "      <td>7200.0</td>\n",
       "      <td>5.5</td>\n",
       "      <td>no</td>\n",
       "      <td>no</td>\n",
       "      <td>no</td>\n",
       "      <td>good</td>\n",
       "      <td>no</td>\n",
       "      <td>no</td>\n",
       "      <td>notckd</td>\n",
       "    </tr>\n",
       "    <tr>\n",
       "      <th>4</th>\n",
       "      <td>24.0</td>\n",
       "      <td>42.0</td>\n",
       "      <td>100.0</td>\n",
       "      <td>1.015</td>\n",
       "      <td>4.0</td>\n",
       "      <td>0.0</td>\n",
       "      <td>normal</td>\n",
       "      <td>abnormal</td>\n",
       "      <td>notpresent</td>\n",
       "      <td>present</td>\n",
       "      <td>...</td>\n",
       "      <td>39.0</td>\n",
       "      <td>8300.0</td>\n",
       "      <td>4.6</td>\n",
       "      <td>yes</td>\n",
       "      <td>no</td>\n",
       "      <td>no</td>\n",
       "      <td>poor</td>\n",
       "      <td>no</td>\n",
       "      <td>no</td>\n",
       "      <td>ckd</td>\n",
       "    </tr>\n",
       "  </tbody>\n",
       "</table>\n",
       "<p>5 rows × 26 columns</p>\n",
       "</div>"
      ],
      "text/plain": [
       "      id   age     bp     sg   al   su     rbc        pc         pcc  \\\n",
       "0  157.0  62.0   70.0  1.025  3.0  0.0  normal  abnormal  notpresent   \n",
       "1  109.0  54.0   70.0  1.020  0.0  0.0  normal    normal  notpresent   \n",
       "2   17.0  47.0   80.0  1.020  0.0  0.0  normal    normal  notpresent   \n",
       "3  347.0  43.0   60.0  1.025  0.0  0.0  normal    normal  notpresent   \n",
       "4   24.0  42.0  100.0  1.015  4.0  0.0  normal  abnormal  notpresent   \n",
       "\n",
       "           ba  ...   pcv      wc   rc  htn   dm  cad  appet  pe  ane  \\\n",
       "0  notpresent  ...  39.0  7900.0  3.9  yes  yes   no   good  no   no   \n",
       "1  notpresent  ...  41.0  7900.0  4.8   no  yes   no   good  no   no   \n",
       "2  notpresent  ...  41.0  7900.0  4.8  yes   no   no   poor  no   no   \n",
       "3  notpresent  ...  43.0  7200.0  5.5   no   no   no   good  no   no   \n",
       "4     present  ...  39.0  8300.0  4.6  yes   no   no   poor  no   no   \n",
       "\n",
       "  classification  \n",
       "0            ckd  \n",
       "1            ckd  \n",
       "2            ckd  \n",
       "3         notckd  \n",
       "4            ckd  \n",
       "\n",
       "[5 rows x 26 columns]"
      ]
     },
     "execution_count": 45,
     "metadata": {},
     "output_type": "execute_result"
    }
   ],
   "source": [
    "train_data1.head()"
   ]
  },
  {
   "cell_type": "code",
   "execution_count": 46,
   "id": "505c87ad",
   "metadata": {},
   "outputs": [],
   "source": [
    "train_data1.drop('id',axis=1,inplace=True)"
   ]
  },
  {
   "cell_type": "code",
   "execution_count": 47,
   "id": "a61917fa",
   "metadata": {},
   "outputs": [
    {
     "data": {
      "text/html": [
       "<div>\n",
       "<style scoped>\n",
       "    .dataframe tbody tr th:only-of-type {\n",
       "        vertical-align: middle;\n",
       "    }\n",
       "\n",
       "    .dataframe tbody tr th {\n",
       "        vertical-align: top;\n",
       "    }\n",
       "\n",
       "    .dataframe thead th {\n",
       "        text-align: right;\n",
       "    }\n",
       "</style>\n",
       "<table border=\"1\" class=\"dataframe\">\n",
       "  <thead>\n",
       "    <tr style=\"text-align: right;\">\n",
       "      <th></th>\n",
       "      <th>age</th>\n",
       "      <th>bp</th>\n",
       "      <th>sg</th>\n",
       "      <th>al</th>\n",
       "      <th>su</th>\n",
       "      <th>rbc</th>\n",
       "      <th>pc</th>\n",
       "      <th>pcc</th>\n",
       "      <th>ba</th>\n",
       "      <th>bgr</th>\n",
       "      <th>...</th>\n",
       "      <th>pcv</th>\n",
       "      <th>wc</th>\n",
       "      <th>rc</th>\n",
       "      <th>htn</th>\n",
       "      <th>dm</th>\n",
       "      <th>cad</th>\n",
       "      <th>appet</th>\n",
       "      <th>pe</th>\n",
       "      <th>ane</th>\n",
       "      <th>classification</th>\n",
       "    </tr>\n",
       "  </thead>\n",
       "  <tbody>\n",
       "    <tr>\n",
       "      <th>0</th>\n",
       "      <td>62.0</td>\n",
       "      <td>70.0</td>\n",
       "      <td>1.025</td>\n",
       "      <td>3.0</td>\n",
       "      <td>0.0</td>\n",
       "      <td>normal</td>\n",
       "      <td>abnormal</td>\n",
       "      <td>notpresent</td>\n",
       "      <td>notpresent</td>\n",
       "      <td>122.0</td>\n",
       "      <td>...</td>\n",
       "      <td>39.0</td>\n",
       "      <td>7900.0</td>\n",
       "      <td>3.9</td>\n",
       "      <td>yes</td>\n",
       "      <td>yes</td>\n",
       "      <td>no</td>\n",
       "      <td>good</td>\n",
       "      <td>no</td>\n",
       "      <td>no</td>\n",
       "      <td>ckd</td>\n",
       "    </tr>\n",
       "    <tr>\n",
       "      <th>1</th>\n",
       "      <td>54.0</td>\n",
       "      <td>70.0</td>\n",
       "      <td>1.020</td>\n",
       "      <td>0.0</td>\n",
       "      <td>0.0</td>\n",
       "      <td>normal</td>\n",
       "      <td>normal</td>\n",
       "      <td>notpresent</td>\n",
       "      <td>notpresent</td>\n",
       "      <td>233.0</td>\n",
       "      <td>...</td>\n",
       "      <td>41.0</td>\n",
       "      <td>7900.0</td>\n",
       "      <td>4.8</td>\n",
       "      <td>no</td>\n",
       "      <td>yes</td>\n",
       "      <td>no</td>\n",
       "      <td>good</td>\n",
       "      <td>no</td>\n",
       "      <td>no</td>\n",
       "      <td>ckd</td>\n",
       "    </tr>\n",
       "    <tr>\n",
       "      <th>2</th>\n",
       "      <td>47.0</td>\n",
       "      <td>80.0</td>\n",
       "      <td>1.020</td>\n",
       "      <td>0.0</td>\n",
       "      <td>0.0</td>\n",
       "      <td>normal</td>\n",
       "      <td>normal</td>\n",
       "      <td>notpresent</td>\n",
       "      <td>notpresent</td>\n",
       "      <td>114.0</td>\n",
       "      <td>...</td>\n",
       "      <td>41.0</td>\n",
       "      <td>7900.0</td>\n",
       "      <td>4.8</td>\n",
       "      <td>yes</td>\n",
       "      <td>no</td>\n",
       "      <td>no</td>\n",
       "      <td>poor</td>\n",
       "      <td>no</td>\n",
       "      <td>no</td>\n",
       "      <td>ckd</td>\n",
       "    </tr>\n",
       "    <tr>\n",
       "      <th>3</th>\n",
       "      <td>43.0</td>\n",
       "      <td>60.0</td>\n",
       "      <td>1.025</td>\n",
       "      <td>0.0</td>\n",
       "      <td>0.0</td>\n",
       "      <td>normal</td>\n",
       "      <td>normal</td>\n",
       "      <td>notpresent</td>\n",
       "      <td>notpresent</td>\n",
       "      <td>108.0</td>\n",
       "      <td>...</td>\n",
       "      <td>43.0</td>\n",
       "      <td>7200.0</td>\n",
       "      <td>5.5</td>\n",
       "      <td>no</td>\n",
       "      <td>no</td>\n",
       "      <td>no</td>\n",
       "      <td>good</td>\n",
       "      <td>no</td>\n",
       "      <td>no</td>\n",
       "      <td>notckd</td>\n",
       "    </tr>\n",
       "    <tr>\n",
       "      <th>4</th>\n",
       "      <td>42.0</td>\n",
       "      <td>100.0</td>\n",
       "      <td>1.015</td>\n",
       "      <td>4.0</td>\n",
       "      <td>0.0</td>\n",
       "      <td>normal</td>\n",
       "      <td>abnormal</td>\n",
       "      <td>notpresent</td>\n",
       "      <td>present</td>\n",
       "      <td>124.0</td>\n",
       "      <td>...</td>\n",
       "      <td>39.0</td>\n",
       "      <td>8300.0</td>\n",
       "      <td>4.6</td>\n",
       "      <td>yes</td>\n",
       "      <td>no</td>\n",
       "      <td>no</td>\n",
       "      <td>poor</td>\n",
       "      <td>no</td>\n",
       "      <td>no</td>\n",
       "      <td>ckd</td>\n",
       "    </tr>\n",
       "  </tbody>\n",
       "</table>\n",
       "<p>5 rows × 25 columns</p>\n",
       "</div>"
      ],
      "text/plain": [
       "    age     bp     sg   al   su     rbc        pc         pcc          ba  \\\n",
       "0  62.0   70.0  1.025  3.0  0.0  normal  abnormal  notpresent  notpresent   \n",
       "1  54.0   70.0  1.020  0.0  0.0  normal    normal  notpresent  notpresent   \n",
       "2  47.0   80.0  1.020  0.0  0.0  normal    normal  notpresent  notpresent   \n",
       "3  43.0   60.0  1.025  0.0  0.0  normal    normal  notpresent  notpresent   \n",
       "4  42.0  100.0  1.015  4.0  0.0  normal  abnormal  notpresent     present   \n",
       "\n",
       "     bgr  ...   pcv      wc   rc  htn   dm  cad  appet  pe ane classification  \n",
       "0  122.0  ...  39.0  7900.0  3.9  yes  yes   no   good  no  no            ckd  \n",
       "1  233.0  ...  41.0  7900.0  4.8   no  yes   no   good  no  no            ckd  \n",
       "2  114.0  ...  41.0  7900.0  4.8  yes   no   no   poor  no  no            ckd  \n",
       "3  108.0  ...  43.0  7200.0  5.5   no   no   no   good  no  no         notckd  \n",
       "4  124.0  ...  39.0  8300.0  4.6  yes   no   no   poor  no  no            ckd  \n",
       "\n",
       "[5 rows x 25 columns]"
      ]
     },
     "execution_count": 47,
     "metadata": {},
     "output_type": "execute_result"
    }
   ],
   "source": [
    "train_data1.head()"
   ]
  },
  {
   "cell_type": "code",
   "execution_count": 48,
   "id": "87d6d8b6",
   "metadata": {},
   "outputs": [
    {
     "name": "stdout",
     "output_type": "stream",
     "text": [
      "<class 'pandas.core.frame.DataFrame'>\n",
      "RangeIndex: 280 entries, 0 to 279\n",
      "Data columns (total 25 columns):\n",
      " #   Column          Non-Null Count  Dtype  \n",
      "---  ------          --------------  -----  \n",
      " 0   age             280 non-null    float64\n",
      " 1   bp              280 non-null    float64\n",
      " 2   sg              280 non-null    float64\n",
      " 3   al              280 non-null    float64\n",
      " 4   su              280 non-null    float64\n",
      " 5   rbc             280 non-null    object \n",
      " 6   pc              280 non-null    object \n",
      " 7   pcc             280 non-null    object \n",
      " 8   ba              280 non-null    object \n",
      " 9   bgr             280 non-null    float64\n",
      " 10  bu              280 non-null    float64\n",
      " 11  sc              280 non-null    float64\n",
      " 12  sod             280 non-null    float64\n",
      " 13  pot             280 non-null    float64\n",
      " 14  hemo            280 non-null    float64\n",
      " 15  pcv             280 non-null    float64\n",
      " 16  wc              280 non-null    float64\n",
      " 17  rc              280 non-null    float64\n",
      " 18  htn             280 non-null    object \n",
      " 19  dm              280 non-null    object \n",
      " 20  cad             280 non-null    object \n",
      " 21  appet           280 non-null    object \n",
      " 22  pe              280 non-null    object \n",
      " 23  ane             280 non-null    object \n",
      " 24  classification  280 non-null    object \n",
      "dtypes: float64(14), object(11)\n",
      "memory usage: 54.8+ KB\n"
     ]
    }
   ],
   "source": [
    "train_data1.info()"
   ]
  },
  {
   "cell_type": "markdown",
   "id": "d59c6de2",
   "metadata": {},
   "source": [
    "### rbc,pc,pcc,ba,htn,dm,cad,appet,pe,ane are categorical features"
   ]
  },
  {
   "cell_type": "code",
   "execution_count": 49,
   "id": "9962dc24",
   "metadata": {},
   "outputs": [],
   "source": [
    "cat_feat=['rbc','pc','pcc','ba','htn','dm','cad','appet','pe','ane','classification']"
   ]
  },
  {
   "cell_type": "code",
   "execution_count": 50,
   "id": "d3979743",
   "metadata": {},
   "outputs": [
    {
     "name": "stdout",
     "output_type": "stream",
     "text": [
      "['normal' 'abnormal']\n",
      "['abnormal' 'normal']\n",
      "['notpresent' 'present']\n",
      "['notpresent' 'present']\n",
      "['yes' 'no']\n",
      "['yes' 'no']\n",
      "['no' 'yes']\n",
      "['good' 'poor']\n",
      "['no' 'yes']\n",
      "['no' 'yes']\n",
      "['ckd' 'notckd']\n"
     ]
    }
   ],
   "source": [
    "for f in cat_feat:\n",
    "    print(train_data1[f].unique())"
   ]
  },
  {
   "cell_type": "markdown",
   "id": "66d4696c",
   "metadata": {},
   "source": [
    "#### can convert them to numerical"
   ]
  },
  {
   "cell_type": "code",
   "execution_count": 51,
   "id": "2dc3d981",
   "metadata": {},
   "outputs": [],
   "source": [
    "conv_to_num={\"rbc\":     {\"normal\": 1, \"abnormal\": 0},\n",
    "                \"pc\":     {\"normal\": 1, \"abnormal\": 0},\n",
    "                \"pcc\":     {\"present\": 1, \"notpresent\": 0},\n",
    "                \"ba\":     {\"present\": 1, \"notpresent\": 0},\n",
    "                \"htn\":     {\"yes\": 1, \"no\": 0},\n",
    "                \"dm\":     {\"yes\": 1, \"no\": 0},\n",
    "                \"cad\":     {\"yes\": 1, \"no\": 0},\n",
    "                \"pe\":     {\"yes\": 1, \"no\": 0},\n",
    "                \"ane\":     {\"yes\": 1, \"no\": 0},\n",
    "                \"appet\":     {\"good\": 1, \"poor\": 0},\n",
    "                \"classification\":     {\"ckd\": 1, \"notckd\": 0} \n",
    "               }"
   ]
  },
  {
   "cell_type": "code",
   "execution_count": 52,
   "id": "2e817424",
   "metadata": {},
   "outputs": [],
   "source": [
    "train_data1.replace(conv_to_num,inplace=True)"
   ]
  },
  {
   "cell_type": "code",
   "execution_count": 53,
   "id": "dd7210ce",
   "metadata": {},
   "outputs": [
    {
     "name": "stdout",
     "output_type": "stream",
     "text": [
      "<class 'pandas.core.frame.DataFrame'>\n",
      "RangeIndex: 280 entries, 0 to 279\n",
      "Data columns (total 25 columns):\n",
      " #   Column          Non-Null Count  Dtype  \n",
      "---  ------          --------------  -----  \n",
      " 0   age             280 non-null    float64\n",
      " 1   bp              280 non-null    float64\n",
      " 2   sg              280 non-null    float64\n",
      " 3   al              280 non-null    float64\n",
      " 4   su              280 non-null    float64\n",
      " 5   rbc             280 non-null    int64  \n",
      " 6   pc              280 non-null    int64  \n",
      " 7   pcc             280 non-null    int64  \n",
      " 8   ba              280 non-null    int64  \n",
      " 9   bgr             280 non-null    float64\n",
      " 10  bu              280 non-null    float64\n",
      " 11  sc              280 non-null    float64\n",
      " 12  sod             280 non-null    float64\n",
      " 13  pot             280 non-null    float64\n",
      " 14  hemo            280 non-null    float64\n",
      " 15  pcv             280 non-null    float64\n",
      " 16  wc              280 non-null    float64\n",
      " 17  rc              280 non-null    float64\n",
      " 18  htn             280 non-null    int64  \n",
      " 19  dm              280 non-null    int64  \n",
      " 20  cad             280 non-null    int64  \n",
      " 21  appet           280 non-null    int64  \n",
      " 22  pe              280 non-null    int64  \n",
      " 23  ane             280 non-null    int64  \n",
      " 24  classification  280 non-null    int64  \n",
      "dtypes: float64(14), int64(11)\n",
      "memory usage: 54.8 KB\n"
     ]
    }
   ],
   "source": [
    "train_data1.info()"
   ]
  },
  {
   "cell_type": "markdown",
   "id": "f30a3f20",
   "metadata": {},
   "source": [
    "#### Finally all the values are Numerical"
   ]
  },
  {
   "cell_type": "code",
   "execution_count": 54,
   "id": "7b465d4c",
   "metadata": {},
   "outputs": [
    {
     "data": {
      "text/html": [
       "<div>\n",
       "<style scoped>\n",
       "    .dataframe tbody tr th:only-of-type {\n",
       "        vertical-align: middle;\n",
       "    }\n",
       "\n",
       "    .dataframe tbody tr th {\n",
       "        vertical-align: top;\n",
       "    }\n",
       "\n",
       "    .dataframe thead th {\n",
       "        text-align: right;\n",
       "    }\n",
       "</style>\n",
       "<table border=\"1\" class=\"dataframe\">\n",
       "  <thead>\n",
       "    <tr style=\"text-align: right;\">\n",
       "      <th></th>\n",
       "      <th>age</th>\n",
       "      <th>bp</th>\n",
       "      <th>sg</th>\n",
       "      <th>al</th>\n",
       "      <th>su</th>\n",
       "      <th>rbc</th>\n",
       "      <th>pc</th>\n",
       "      <th>pcc</th>\n",
       "      <th>ba</th>\n",
       "      <th>bgr</th>\n",
       "      <th>...</th>\n",
       "      <th>pcv</th>\n",
       "      <th>wc</th>\n",
       "      <th>rc</th>\n",
       "      <th>htn</th>\n",
       "      <th>dm</th>\n",
       "      <th>cad</th>\n",
       "      <th>appet</th>\n",
       "      <th>pe</th>\n",
       "      <th>ane</th>\n",
       "      <th>classification</th>\n",
       "    </tr>\n",
       "  </thead>\n",
       "  <tbody>\n",
       "    <tr>\n",
       "      <th>0</th>\n",
       "      <td>62.0</td>\n",
       "      <td>70.0</td>\n",
       "      <td>1.025</td>\n",
       "      <td>3.0</td>\n",
       "      <td>0.0</td>\n",
       "      <td>1</td>\n",
       "      <td>0</td>\n",
       "      <td>0</td>\n",
       "      <td>0</td>\n",
       "      <td>122.0</td>\n",
       "      <td>...</td>\n",
       "      <td>39.0</td>\n",
       "      <td>7900.0</td>\n",
       "      <td>3.9</td>\n",
       "      <td>1</td>\n",
       "      <td>1</td>\n",
       "      <td>0</td>\n",
       "      <td>1</td>\n",
       "      <td>0</td>\n",
       "      <td>0</td>\n",
       "      <td>1</td>\n",
       "    </tr>\n",
       "    <tr>\n",
       "      <th>1</th>\n",
       "      <td>54.0</td>\n",
       "      <td>70.0</td>\n",
       "      <td>1.020</td>\n",
       "      <td>0.0</td>\n",
       "      <td>0.0</td>\n",
       "      <td>1</td>\n",
       "      <td>1</td>\n",
       "      <td>0</td>\n",
       "      <td>0</td>\n",
       "      <td>233.0</td>\n",
       "      <td>...</td>\n",
       "      <td>41.0</td>\n",
       "      <td>7900.0</td>\n",
       "      <td>4.8</td>\n",
       "      <td>0</td>\n",
       "      <td>1</td>\n",
       "      <td>0</td>\n",
       "      <td>1</td>\n",
       "      <td>0</td>\n",
       "      <td>0</td>\n",
       "      <td>1</td>\n",
       "    </tr>\n",
       "    <tr>\n",
       "      <th>2</th>\n",
       "      <td>47.0</td>\n",
       "      <td>80.0</td>\n",
       "      <td>1.020</td>\n",
       "      <td>0.0</td>\n",
       "      <td>0.0</td>\n",
       "      <td>1</td>\n",
       "      <td>1</td>\n",
       "      <td>0</td>\n",
       "      <td>0</td>\n",
       "      <td>114.0</td>\n",
       "      <td>...</td>\n",
       "      <td>41.0</td>\n",
       "      <td>7900.0</td>\n",
       "      <td>4.8</td>\n",
       "      <td>1</td>\n",
       "      <td>0</td>\n",
       "      <td>0</td>\n",
       "      <td>0</td>\n",
       "      <td>0</td>\n",
       "      <td>0</td>\n",
       "      <td>1</td>\n",
       "    </tr>\n",
       "    <tr>\n",
       "      <th>3</th>\n",
       "      <td>43.0</td>\n",
       "      <td>60.0</td>\n",
       "      <td>1.025</td>\n",
       "      <td>0.0</td>\n",
       "      <td>0.0</td>\n",
       "      <td>1</td>\n",
       "      <td>1</td>\n",
       "      <td>0</td>\n",
       "      <td>0</td>\n",
       "      <td>108.0</td>\n",
       "      <td>...</td>\n",
       "      <td>43.0</td>\n",
       "      <td>7200.0</td>\n",
       "      <td>5.5</td>\n",
       "      <td>0</td>\n",
       "      <td>0</td>\n",
       "      <td>0</td>\n",
       "      <td>1</td>\n",
       "      <td>0</td>\n",
       "      <td>0</td>\n",
       "      <td>0</td>\n",
       "    </tr>\n",
       "    <tr>\n",
       "      <th>4</th>\n",
       "      <td>42.0</td>\n",
       "      <td>100.0</td>\n",
       "      <td>1.015</td>\n",
       "      <td>4.0</td>\n",
       "      <td>0.0</td>\n",
       "      <td>1</td>\n",
       "      <td>0</td>\n",
       "      <td>0</td>\n",
       "      <td>1</td>\n",
       "      <td>124.0</td>\n",
       "      <td>...</td>\n",
       "      <td>39.0</td>\n",
       "      <td>8300.0</td>\n",
       "      <td>4.6</td>\n",
       "      <td>1</td>\n",
       "      <td>0</td>\n",
       "      <td>0</td>\n",
       "      <td>0</td>\n",
       "      <td>0</td>\n",
       "      <td>0</td>\n",
       "      <td>1</td>\n",
       "    </tr>\n",
       "  </tbody>\n",
       "</table>\n",
       "<p>5 rows × 25 columns</p>\n",
       "</div>"
      ],
      "text/plain": [
       "    age     bp     sg   al   su  rbc  pc  pcc  ba    bgr  ...   pcv      wc  \\\n",
       "0  62.0   70.0  1.025  3.0  0.0    1   0    0   0  122.0  ...  39.0  7900.0   \n",
       "1  54.0   70.0  1.020  0.0  0.0    1   1    0   0  233.0  ...  41.0  7900.0   \n",
       "2  47.0   80.0  1.020  0.0  0.0    1   1    0   0  114.0  ...  41.0  7900.0   \n",
       "3  43.0   60.0  1.025  0.0  0.0    1   1    0   0  108.0  ...  43.0  7200.0   \n",
       "4  42.0  100.0  1.015  4.0  0.0    1   0    0   1  124.0  ...  39.0  8300.0   \n",
       "\n",
       "    rc  htn  dm  cad  appet  pe  ane  classification  \n",
       "0  3.9    1   1    0      1   0    0               1  \n",
       "1  4.8    0   1    0      1   0    0               1  \n",
       "2  4.8    1   0    0      0   0    0               1  \n",
       "3  5.5    0   0    0      1   0    0               0  \n",
       "4  4.6    1   0    0      0   0    0               1  \n",
       "\n",
       "[5 rows x 25 columns]"
      ]
     },
     "execution_count": 54,
     "metadata": {},
     "output_type": "execute_result"
    }
   ],
   "source": [
    "train_data1.head()"
   ]
  },
  {
   "cell_type": "markdown",
   "id": "84f16479",
   "metadata": {},
   "source": [
    "# ------------------------------------SLIDE-5-----------------------------------------\n",
    "## Correaltion and Multicolinearity"
   ]
  },
  {
   "cell_type": "code",
   "execution_count": 55,
   "id": "a53a6ad1",
   "metadata": {},
   "outputs": [
    {
     "data": {
      "text/html": [
       "<div>\n",
       "<style scoped>\n",
       "    .dataframe tbody tr th:only-of-type {\n",
       "        vertical-align: middle;\n",
       "    }\n",
       "\n",
       "    .dataframe tbody tr th {\n",
       "        vertical-align: top;\n",
       "    }\n",
       "\n",
       "    .dataframe thead th {\n",
       "        text-align: right;\n",
       "    }\n",
       "</style>\n",
       "<table border=\"1\" class=\"dataframe\">\n",
       "  <thead>\n",
       "    <tr style=\"text-align: right;\">\n",
       "      <th></th>\n",
       "      <th>age</th>\n",
       "      <th>bp</th>\n",
       "      <th>sg</th>\n",
       "      <th>al</th>\n",
       "      <th>su</th>\n",
       "      <th>rbc</th>\n",
       "      <th>pc</th>\n",
       "      <th>pcc</th>\n",
       "      <th>ba</th>\n",
       "      <th>bgr</th>\n",
       "      <th>...</th>\n",
       "      <th>pcv</th>\n",
       "      <th>wc</th>\n",
       "      <th>rc</th>\n",
       "      <th>htn</th>\n",
       "      <th>dm</th>\n",
       "      <th>cad</th>\n",
       "      <th>appet</th>\n",
       "      <th>pe</th>\n",
       "      <th>ane</th>\n",
       "      <th>classification</th>\n",
       "    </tr>\n",
       "  </thead>\n",
       "  <tbody>\n",
       "    <tr>\n",
       "      <th>age</th>\n",
       "      <td>1.000000</td>\n",
       "      <td>0.188999</td>\n",
       "      <td>-0.183268</td>\n",
       "      <td>0.104325</td>\n",
       "      <td>0.149947</td>\n",
       "      <td>-0.043363</td>\n",
       "      <td>-0.130778</td>\n",
       "      <td>0.178975</td>\n",
       "      <td>0.054906</td>\n",
       "      <td>0.252522</td>\n",
       "      <td>...</td>\n",
       "      <td>-0.218274</td>\n",
       "      <td>0.146828</td>\n",
       "      <td>-0.267395</td>\n",
       "      <td>0.409465</td>\n",
       "      <td>0.383036</td>\n",
       "      <td>0.224940</td>\n",
       "      <td>-0.146669</td>\n",
       "      <td>0.099835</td>\n",
       "      <td>0.102855</td>\n",
       "      <td>0.257968</td>\n",
       "    </tr>\n",
       "    <tr>\n",
       "      <th>bp</th>\n",
       "      <td>0.188999</td>\n",
       "      <td>1.000000</td>\n",
       "      <td>-0.191908</td>\n",
       "      <td>0.130302</td>\n",
       "      <td>0.120321</td>\n",
       "      <td>-0.154502</td>\n",
       "      <td>-0.107229</td>\n",
       "      <td>0.072769</td>\n",
       "      <td>0.091459</td>\n",
       "      <td>0.162510</td>\n",
       "      <td>...</td>\n",
       "      <td>-0.235774</td>\n",
       "      <td>-0.012754</td>\n",
       "      <td>-0.173593</td>\n",
       "      <td>0.245487</td>\n",
       "      <td>0.242848</td>\n",
       "      <td>0.060332</td>\n",
       "      <td>-0.101468</td>\n",
       "      <td>-0.037093</td>\n",
       "      <td>0.199726</td>\n",
       "      <td>0.267158</td>\n",
       "    </tr>\n",
       "    <tr>\n",
       "      <th>sg</th>\n",
       "      <td>-0.183268</td>\n",
       "      <td>-0.191908</td>\n",
       "      <td>1.000000</td>\n",
       "      <td>-0.475982</td>\n",
       "      <td>-0.267190</td>\n",
       "      <td>0.238394</td>\n",
       "      <td>0.417175</td>\n",
       "      <td>-0.344921</td>\n",
       "      <td>-0.210826</td>\n",
       "      <td>-0.294692</td>\n",
       "      <td>...</td>\n",
       "      <td>0.506919</td>\n",
       "      <td>-0.177367</td>\n",
       "      <td>0.454488</td>\n",
       "      <td>-0.352247</td>\n",
       "      <td>-0.376636</td>\n",
       "      <td>-0.152729</td>\n",
       "      <td>0.272266</td>\n",
       "      <td>-0.249465</td>\n",
       "      <td>-0.208425</td>\n",
       "      <td>-0.674477</td>\n",
       "    </tr>\n",
       "    <tr>\n",
       "      <th>al</th>\n",
       "      <td>0.104325</td>\n",
       "      <td>0.130302</td>\n",
       "      <td>-0.475982</td>\n",
       "      <td>1.000000</td>\n",
       "      <td>0.323062</td>\n",
       "      <td>-0.388302</td>\n",
       "      <td>-0.566644</td>\n",
       "      <td>0.386256</td>\n",
       "      <td>0.389881</td>\n",
       "      <td>0.314308</td>\n",
       "      <td>...</td>\n",
       "      <td>-0.442101</td>\n",
       "      <td>0.206780</td>\n",
       "      <td>-0.392353</td>\n",
       "      <td>0.433380</td>\n",
       "      <td>0.349733</td>\n",
       "      <td>0.189797</td>\n",
       "      <td>-0.320043</td>\n",
       "      <td>0.426922</td>\n",
       "      <td>0.193195</td>\n",
       "      <td>0.526758</td>\n",
       "    </tr>\n",
       "    <tr>\n",
       "      <th>su</th>\n",
       "      <td>0.149947</td>\n",
       "      <td>0.120321</td>\n",
       "      <td>-0.267190</td>\n",
       "      <td>0.323062</td>\n",
       "      <td>1.000000</td>\n",
       "      <td>-0.058453</td>\n",
       "      <td>-0.200236</td>\n",
       "      <td>0.160796</td>\n",
       "      <td>0.106095</td>\n",
       "      <td>0.494625</td>\n",
       "      <td>...</td>\n",
       "      <td>-0.208179</td>\n",
       "      <td>0.157027</td>\n",
       "      <td>-0.172700</td>\n",
       "      <td>0.253446</td>\n",
       "      <td>0.419282</td>\n",
       "      <td>0.171714</td>\n",
       "      <td>-0.098485</td>\n",
       "      <td>0.162597</td>\n",
       "      <td>0.099916</td>\n",
       "      <td>0.293457</td>\n",
       "    </tr>\n",
       "    <tr>\n",
       "      <th>rbc</th>\n",
       "      <td>-0.043363</td>\n",
       "      <td>-0.154502</td>\n",
       "      <td>0.238394</td>\n",
       "      <td>-0.388302</td>\n",
       "      <td>-0.058453</td>\n",
       "      <td>1.000000</td>\n",
       "      <td>0.367855</td>\n",
       "      <td>-0.052789</td>\n",
       "      <td>-0.219299</td>\n",
       "      <td>-0.140647</td>\n",
       "      <td>...</td>\n",
       "      <td>0.239068</td>\n",
       "      <td>0.038614</td>\n",
       "      <td>0.170751</td>\n",
       "      <td>-0.132394</td>\n",
       "      <td>-0.135204</td>\n",
       "      <td>-0.111747</td>\n",
       "      <td>0.185708</td>\n",
       "      <td>-0.173641</td>\n",
       "      <td>-0.062206</td>\n",
       "      <td>-0.265302</td>\n",
       "    </tr>\n",
       "    <tr>\n",
       "      <th>pc</th>\n",
       "      <td>-0.130778</td>\n",
       "      <td>-0.107229</td>\n",
       "      <td>0.417175</td>\n",
       "      <td>-0.566644</td>\n",
       "      <td>-0.200236</td>\n",
       "      <td>0.367855</td>\n",
       "      <td>1.000000</td>\n",
       "      <td>-0.467970</td>\n",
       "      <td>-0.413040</td>\n",
       "      <td>-0.248053</td>\n",
       "      <td>...</td>\n",
       "      <td>0.387645</td>\n",
       "      <td>-0.057180</td>\n",
       "      <td>0.347639</td>\n",
       "      <td>-0.315440</td>\n",
       "      <td>-0.221669</td>\n",
       "      <td>-0.204532</td>\n",
       "      <td>0.252409</td>\n",
       "      <td>-0.367120</td>\n",
       "      <td>-0.268608</td>\n",
       "      <td>-0.359476</td>\n",
       "    </tr>\n",
       "    <tr>\n",
       "      <th>pcc</th>\n",
       "      <td>0.178975</td>\n",
       "      <td>0.072769</td>\n",
       "      <td>-0.344921</td>\n",
       "      <td>0.386256</td>\n",
       "      <td>0.160796</td>\n",
       "      <td>-0.052789</td>\n",
       "      <td>-0.467970</td>\n",
       "      <td>1.000000</td>\n",
       "      <td>0.345350</td>\n",
       "      <td>0.169459</td>\n",
       "      <td>...</td>\n",
       "      <td>-0.241696</td>\n",
       "      <td>0.114349</td>\n",
       "      <td>-0.205306</td>\n",
       "      <td>0.192512</td>\n",
       "      <td>0.195301</td>\n",
       "      <td>0.128363</td>\n",
       "      <td>-0.214655</td>\n",
       "      <td>0.167838</td>\n",
       "      <td>0.221041</td>\n",
       "      <td>0.249717</td>\n",
       "    </tr>\n",
       "    <tr>\n",
       "      <th>ba</th>\n",
       "      <td>0.054906</td>\n",
       "      <td>0.091459</td>\n",
       "      <td>-0.210826</td>\n",
       "      <td>0.389881</td>\n",
       "      <td>0.106095</td>\n",
       "      <td>-0.219299</td>\n",
       "      <td>-0.413040</td>\n",
       "      <td>0.345350</td>\n",
       "      <td>1.000000</td>\n",
       "      <td>0.088773</td>\n",
       "      <td>...</td>\n",
       "      <td>-0.236304</td>\n",
       "      <td>0.013492</td>\n",
       "      <td>-0.222822</td>\n",
       "      <td>0.133374</td>\n",
       "      <td>0.103447</td>\n",
       "      <td>0.206532</td>\n",
       "      <td>-0.202226</td>\n",
       "      <td>0.202743</td>\n",
       "      <td>0.075378</td>\n",
       "      <td>0.192148</td>\n",
       "    </tr>\n",
       "    <tr>\n",
       "      <th>bgr</th>\n",
       "      <td>0.252522</td>\n",
       "      <td>0.162510</td>\n",
       "      <td>-0.294692</td>\n",
       "      <td>0.314308</td>\n",
       "      <td>0.494625</td>\n",
       "      <td>-0.140647</td>\n",
       "      <td>-0.248053</td>\n",
       "      <td>0.169459</td>\n",
       "      <td>0.088773</td>\n",
       "      <td>1.000000</td>\n",
       "      <td>...</td>\n",
       "      <td>-0.284219</td>\n",
       "      <td>0.112820</td>\n",
       "      <td>-0.294418</td>\n",
       "      <td>0.414283</td>\n",
       "      <td>0.535366</td>\n",
       "      <td>0.194784</td>\n",
       "      <td>-0.267635</td>\n",
       "      <td>0.158523</td>\n",
       "      <td>0.112951</td>\n",
       "      <td>0.416135</td>\n",
       "    </tr>\n",
       "    <tr>\n",
       "      <th>bu</th>\n",
       "      <td>0.199831</td>\n",
       "      <td>0.169085</td>\n",
       "      <td>-0.264643</td>\n",
       "      <td>0.325662</td>\n",
       "      <td>0.146686</td>\n",
       "      <td>-0.239129</td>\n",
       "      <td>-0.257751</td>\n",
       "      <td>0.138788</td>\n",
       "      <td>0.137205</td>\n",
       "      <td>0.170372</td>\n",
       "      <td>...</td>\n",
       "      <td>-0.471952</td>\n",
       "      <td>0.108330</td>\n",
       "      <td>-0.447592</td>\n",
       "      <td>0.373813</td>\n",
       "      <td>0.428416</td>\n",
       "      <td>0.268489</td>\n",
       "      <td>-0.232871</td>\n",
       "      <td>0.245157</td>\n",
       "      <td>0.267885</td>\n",
       "      <td>0.383833</td>\n",
       "    </tr>\n",
       "    <tr>\n",
       "      <th>sc</th>\n",
       "      <td>0.159161</td>\n",
       "      <td>0.276676</td>\n",
       "      <td>-0.335855</td>\n",
       "      <td>0.335608</td>\n",
       "      <td>0.213960</td>\n",
       "      <td>-0.247899</td>\n",
       "      <td>-0.253257</td>\n",
       "      <td>0.133765</td>\n",
       "      <td>0.164448</td>\n",
       "      <td>0.220676</td>\n",
       "      <td>...</td>\n",
       "      <td>-0.461672</td>\n",
       "      <td>0.071611</td>\n",
       "      <td>-0.411485</td>\n",
       "      <td>0.367717</td>\n",
       "      <td>0.406823</td>\n",
       "      <td>0.132787</td>\n",
       "      <td>-0.246659</td>\n",
       "      <td>0.314753</td>\n",
       "      <td>0.423547</td>\n",
       "      <td>0.417302</td>\n",
       "    </tr>\n",
       "    <tr>\n",
       "      <th>sod</th>\n",
       "      <td>-0.120341</td>\n",
       "      <td>-0.067141</td>\n",
       "      <td>0.323334</td>\n",
       "      <td>-0.361375</td>\n",
       "      <td>-0.096761</td>\n",
       "      <td>0.168146</td>\n",
       "      <td>0.242551</td>\n",
       "      <td>-0.159898</td>\n",
       "      <td>-0.168283</td>\n",
       "      <td>-0.269313</td>\n",
       "      <td>...</td>\n",
       "      <td>0.404748</td>\n",
       "      <td>0.006386</td>\n",
       "      <td>0.371767</td>\n",
       "      <td>-0.386900</td>\n",
       "      <td>-0.323121</td>\n",
       "      <td>-0.153602</td>\n",
       "      <td>0.252719</td>\n",
       "      <td>-0.243517</td>\n",
       "      <td>-0.261176</td>\n",
       "      <td>-0.443258</td>\n",
       "    </tr>\n",
       "    <tr>\n",
       "      <th>pot</th>\n",
       "      <td>0.072749</td>\n",
       "      <td>0.185514</td>\n",
       "      <td>0.043596</td>\n",
       "      <td>0.093943</td>\n",
       "      <td>0.071011</td>\n",
       "      <td>-0.042669</td>\n",
       "      <td>-0.024187</td>\n",
       "      <td>0.080704</td>\n",
       "      <td>0.086387</td>\n",
       "      <td>0.075842</td>\n",
       "      <td>...</td>\n",
       "      <td>-0.157472</td>\n",
       "      <td>-0.062277</td>\n",
       "      <td>-0.106448</td>\n",
       "      <td>0.131156</td>\n",
       "      <td>0.130122</td>\n",
       "      <td>0.191587</td>\n",
       "      <td>-0.070110</td>\n",
       "      <td>0.069612</td>\n",
       "      <td>0.083776</td>\n",
       "      <td>0.052039</td>\n",
       "    </tr>\n",
       "    <tr>\n",
       "      <th>hemo</th>\n",
       "      <td>-0.226300</td>\n",
       "      <td>-0.252104</td>\n",
       "      <td>0.479482</td>\n",
       "      <td>-0.417647</td>\n",
       "      <td>-0.172764</td>\n",
       "      <td>0.244819</td>\n",
       "      <td>0.366696</td>\n",
       "      <td>-0.225574</td>\n",
       "      <td>-0.254374</td>\n",
       "      <td>-0.308999</td>\n",
       "      <td>...</td>\n",
       "      <td>0.824612</td>\n",
       "      <td>-0.130747</td>\n",
       "      <td>0.674720</td>\n",
       "      <td>-0.612232</td>\n",
       "      <td>-0.539156</td>\n",
       "      <td>-0.335814</td>\n",
       "      <td>0.424137</td>\n",
       "      <td>-0.380433</td>\n",
       "      <td>-0.501447</td>\n",
       "      <td>-0.714488</td>\n",
       "    </tr>\n",
       "    <tr>\n",
       "      <th>pcv</th>\n",
       "      <td>-0.218274</td>\n",
       "      <td>-0.235774</td>\n",
       "      <td>0.506919</td>\n",
       "      <td>-0.442101</td>\n",
       "      <td>-0.208179</td>\n",
       "      <td>0.239068</td>\n",
       "      <td>0.387645</td>\n",
       "      <td>-0.241696</td>\n",
       "      <td>-0.236304</td>\n",
       "      <td>-0.284219</td>\n",
       "      <td>...</td>\n",
       "      <td>1.000000</td>\n",
       "      <td>-0.170752</td>\n",
       "      <td>0.721740</td>\n",
       "      <td>-0.587650</td>\n",
       "      <td>-0.515257</td>\n",
       "      <td>-0.344832</td>\n",
       "      <td>0.426988</td>\n",
       "      <td>-0.414188</td>\n",
       "      <td>-0.441331</td>\n",
       "      <td>-0.651782</td>\n",
       "    </tr>\n",
       "    <tr>\n",
       "      <th>wc</th>\n",
       "      <td>0.146828</td>\n",
       "      <td>-0.012754</td>\n",
       "      <td>-0.177367</td>\n",
       "      <td>0.206780</td>\n",
       "      <td>0.157027</td>\n",
       "      <td>0.038614</td>\n",
       "      <td>-0.057180</td>\n",
       "      <td>0.114349</td>\n",
       "      <td>0.013492</td>\n",
       "      <td>0.112820</td>\n",
       "      <td>...</td>\n",
       "      <td>-0.170752</td>\n",
       "      <td>1.000000</td>\n",
       "      <td>-0.131052</td>\n",
       "      <td>0.149408</td>\n",
       "      <td>0.126945</td>\n",
       "      <td>0.033662</td>\n",
       "      <td>-0.096063</td>\n",
       "      <td>0.128755</td>\n",
       "      <td>0.015413</td>\n",
       "      <td>0.146084</td>\n",
       "    </tr>\n",
       "    <tr>\n",
       "      <th>rc</th>\n",
       "      <td>-0.267395</td>\n",
       "      <td>-0.173593</td>\n",
       "      <td>0.454488</td>\n",
       "      <td>-0.392353</td>\n",
       "      <td>-0.172700</td>\n",
       "      <td>0.170751</td>\n",
       "      <td>0.347639</td>\n",
       "      <td>-0.205306</td>\n",
       "      <td>-0.222822</td>\n",
       "      <td>-0.294418</td>\n",
       "      <td>...</td>\n",
       "      <td>0.721740</td>\n",
       "      <td>-0.131052</td>\n",
       "      <td>1.000000</td>\n",
       "      <td>-0.554028</td>\n",
       "      <td>-0.466491</td>\n",
       "      <td>-0.312867</td>\n",
       "      <td>0.422167</td>\n",
       "      <td>-0.337287</td>\n",
       "      <td>-0.333761</td>\n",
       "      <td>-0.575449</td>\n",
       "    </tr>\n",
       "    <tr>\n",
       "      <th>htn</th>\n",
       "      <td>0.409465</td>\n",
       "      <td>0.245487</td>\n",
       "      <td>-0.352247</td>\n",
       "      <td>0.433380</td>\n",
       "      <td>0.253446</td>\n",
       "      <td>-0.132394</td>\n",
       "      <td>-0.315440</td>\n",
       "      <td>0.192512</td>\n",
       "      <td>0.133374</td>\n",
       "      <td>0.414283</td>\n",
       "      <td>...</td>\n",
       "      <td>-0.587650</td>\n",
       "      <td>0.149408</td>\n",
       "      <td>-0.554028</td>\n",
       "      <td>1.000000</td>\n",
       "      <td>0.636844</td>\n",
       "      <td>0.287078</td>\n",
       "      <td>-0.347013</td>\n",
       "      <td>0.373445</td>\n",
       "      <td>0.369636</td>\n",
       "      <td>0.590838</td>\n",
       "    </tr>\n",
       "    <tr>\n",
       "      <th>dm</th>\n",
       "      <td>0.383036</td>\n",
       "      <td>0.242848</td>\n",
       "      <td>-0.376636</td>\n",
       "      <td>0.349733</td>\n",
       "      <td>0.419282</td>\n",
       "      <td>-0.135204</td>\n",
       "      <td>-0.221669</td>\n",
       "      <td>0.195301</td>\n",
       "      <td>0.103447</td>\n",
       "      <td>0.535366</td>\n",
       "      <td>...</td>\n",
       "      <td>-0.515257</td>\n",
       "      <td>0.126945</td>\n",
       "      <td>-0.466491</td>\n",
       "      <td>0.636844</td>\n",
       "      <td>1.000000</td>\n",
       "      <td>0.262828</td>\n",
       "      <td>-0.351717</td>\n",
       "      <td>0.319941</td>\n",
       "      <td>0.245936</td>\n",
       "      <td>0.586290</td>\n",
       "    </tr>\n",
       "    <tr>\n",
       "      <th>cad</th>\n",
       "      <td>0.224940</td>\n",
       "      <td>0.060332</td>\n",
       "      <td>-0.152729</td>\n",
       "      <td>0.189797</td>\n",
       "      <td>0.171714</td>\n",
       "      <td>-0.111747</td>\n",
       "      <td>-0.204532</td>\n",
       "      <td>0.128363</td>\n",
       "      <td>0.206532</td>\n",
       "      <td>0.194784</td>\n",
       "      <td>...</td>\n",
       "      <td>-0.344832</td>\n",
       "      <td>0.033662</td>\n",
       "      <td>-0.312867</td>\n",
       "      <td>0.287078</td>\n",
       "      <td>0.262828</td>\n",
       "      <td>1.000000</td>\n",
       "      <td>-0.185047</td>\n",
       "      <td>0.263218</td>\n",
       "      <td>0.063720</td>\n",
       "      <td>0.233494</td>\n",
       "    </tr>\n",
       "    <tr>\n",
       "      <th>appet</th>\n",
       "      <td>-0.146669</td>\n",
       "      <td>-0.101468</td>\n",
       "      <td>0.272266</td>\n",
       "      <td>-0.320043</td>\n",
       "      <td>-0.098485</td>\n",
       "      <td>0.185708</td>\n",
       "      <td>0.252409</td>\n",
       "      <td>-0.214655</td>\n",
       "      <td>-0.202226</td>\n",
       "      <td>-0.267635</td>\n",
       "      <td>...</td>\n",
       "      <td>0.426988</td>\n",
       "      <td>-0.096063</td>\n",
       "      <td>0.422167</td>\n",
       "      <td>-0.347013</td>\n",
       "      <td>-0.351717</td>\n",
       "      <td>-0.185047</td>\n",
       "      <td>1.000000</td>\n",
       "      <td>-0.416906</td>\n",
       "      <td>-0.273902</td>\n",
       "      <td>-0.416242</td>\n",
       "    </tr>\n",
       "    <tr>\n",
       "      <th>pe</th>\n",
       "      <td>0.099835</td>\n",
       "      <td>-0.037093</td>\n",
       "      <td>-0.249465</td>\n",
       "      <td>0.426922</td>\n",
       "      <td>0.162597</td>\n",
       "      <td>-0.173641</td>\n",
       "      <td>-0.367120</td>\n",
       "      <td>0.167838</td>\n",
       "      <td>0.202743</td>\n",
       "      <td>0.158523</td>\n",
       "      <td>...</td>\n",
       "      <td>-0.414188</td>\n",
       "      <td>0.128755</td>\n",
       "      <td>-0.337287</td>\n",
       "      <td>0.373445</td>\n",
       "      <td>0.319941</td>\n",
       "      <td>0.263218</td>\n",
       "      <td>-0.416906</td>\n",
       "      <td>1.000000</td>\n",
       "      <td>0.230437</td>\n",
       "      <td>0.368337</td>\n",
       "    </tr>\n",
       "    <tr>\n",
       "      <th>ane</th>\n",
       "      <td>0.102855</td>\n",
       "      <td>0.199726</td>\n",
       "      <td>-0.208425</td>\n",
       "      <td>0.193195</td>\n",
       "      <td>0.099916</td>\n",
       "      <td>-0.062206</td>\n",
       "      <td>-0.268608</td>\n",
       "      <td>0.221041</td>\n",
       "      <td>0.075378</td>\n",
       "      <td>0.112951</td>\n",
       "      <td>...</td>\n",
       "      <td>-0.441331</td>\n",
       "      <td>0.015413</td>\n",
       "      <td>-0.333761</td>\n",
       "      <td>0.369636</td>\n",
       "      <td>0.245936</td>\n",
       "      <td>0.063720</td>\n",
       "      <td>-0.273902</td>\n",
       "      <td>0.230437</td>\n",
       "      <td>1.000000</td>\n",
       "      <td>0.318642</td>\n",
       "    </tr>\n",
       "    <tr>\n",
       "      <th>classification</th>\n",
       "      <td>0.257968</td>\n",
       "      <td>0.267158</td>\n",
       "      <td>-0.674477</td>\n",
       "      <td>0.526758</td>\n",
       "      <td>0.293457</td>\n",
       "      <td>-0.265302</td>\n",
       "      <td>-0.359476</td>\n",
       "      <td>0.249717</td>\n",
       "      <td>0.192148</td>\n",
       "      <td>0.416135</td>\n",
       "      <td>...</td>\n",
       "      <td>-0.651782</td>\n",
       "      <td>0.146084</td>\n",
       "      <td>-0.575449</td>\n",
       "      <td>0.590838</td>\n",
       "      <td>0.586290</td>\n",
       "      <td>0.233494</td>\n",
       "      <td>-0.416242</td>\n",
       "      <td>0.368337</td>\n",
       "      <td>0.318642</td>\n",
       "      <td>1.000000</td>\n",
       "    </tr>\n",
       "  </tbody>\n",
       "</table>\n",
       "<p>25 rows × 25 columns</p>\n",
       "</div>"
      ],
      "text/plain": [
       "                     age        bp        sg        al        su       rbc  \\\n",
       "age             1.000000  0.188999 -0.183268  0.104325  0.149947 -0.043363   \n",
       "bp              0.188999  1.000000 -0.191908  0.130302  0.120321 -0.154502   \n",
       "sg             -0.183268 -0.191908  1.000000 -0.475982 -0.267190  0.238394   \n",
       "al              0.104325  0.130302 -0.475982  1.000000  0.323062 -0.388302   \n",
       "su              0.149947  0.120321 -0.267190  0.323062  1.000000 -0.058453   \n",
       "rbc            -0.043363 -0.154502  0.238394 -0.388302 -0.058453  1.000000   \n",
       "pc             -0.130778 -0.107229  0.417175 -0.566644 -0.200236  0.367855   \n",
       "pcc             0.178975  0.072769 -0.344921  0.386256  0.160796 -0.052789   \n",
       "ba              0.054906  0.091459 -0.210826  0.389881  0.106095 -0.219299   \n",
       "bgr             0.252522  0.162510 -0.294692  0.314308  0.494625 -0.140647   \n",
       "bu              0.199831  0.169085 -0.264643  0.325662  0.146686 -0.239129   \n",
       "sc              0.159161  0.276676 -0.335855  0.335608  0.213960 -0.247899   \n",
       "sod            -0.120341 -0.067141  0.323334 -0.361375 -0.096761  0.168146   \n",
       "pot             0.072749  0.185514  0.043596  0.093943  0.071011 -0.042669   \n",
       "hemo           -0.226300 -0.252104  0.479482 -0.417647 -0.172764  0.244819   \n",
       "pcv            -0.218274 -0.235774  0.506919 -0.442101 -0.208179  0.239068   \n",
       "wc              0.146828 -0.012754 -0.177367  0.206780  0.157027  0.038614   \n",
       "rc             -0.267395 -0.173593  0.454488 -0.392353 -0.172700  0.170751   \n",
       "htn             0.409465  0.245487 -0.352247  0.433380  0.253446 -0.132394   \n",
       "dm              0.383036  0.242848 -0.376636  0.349733  0.419282 -0.135204   \n",
       "cad             0.224940  0.060332 -0.152729  0.189797  0.171714 -0.111747   \n",
       "appet          -0.146669 -0.101468  0.272266 -0.320043 -0.098485  0.185708   \n",
       "pe              0.099835 -0.037093 -0.249465  0.426922  0.162597 -0.173641   \n",
       "ane             0.102855  0.199726 -0.208425  0.193195  0.099916 -0.062206   \n",
       "classification  0.257968  0.267158 -0.674477  0.526758  0.293457 -0.265302   \n",
       "\n",
       "                      pc       pcc        ba       bgr  ...       pcv  \\\n",
       "age            -0.130778  0.178975  0.054906  0.252522  ... -0.218274   \n",
       "bp             -0.107229  0.072769  0.091459  0.162510  ... -0.235774   \n",
       "sg              0.417175 -0.344921 -0.210826 -0.294692  ...  0.506919   \n",
       "al             -0.566644  0.386256  0.389881  0.314308  ... -0.442101   \n",
       "su             -0.200236  0.160796  0.106095  0.494625  ... -0.208179   \n",
       "rbc             0.367855 -0.052789 -0.219299 -0.140647  ...  0.239068   \n",
       "pc              1.000000 -0.467970 -0.413040 -0.248053  ...  0.387645   \n",
       "pcc            -0.467970  1.000000  0.345350  0.169459  ... -0.241696   \n",
       "ba             -0.413040  0.345350  1.000000  0.088773  ... -0.236304   \n",
       "bgr            -0.248053  0.169459  0.088773  1.000000  ... -0.284219   \n",
       "bu             -0.257751  0.138788  0.137205  0.170372  ... -0.471952   \n",
       "sc             -0.253257  0.133765  0.164448  0.220676  ... -0.461672   \n",
       "sod             0.242551 -0.159898 -0.168283 -0.269313  ...  0.404748   \n",
       "pot            -0.024187  0.080704  0.086387  0.075842  ... -0.157472   \n",
       "hemo            0.366696 -0.225574 -0.254374 -0.308999  ...  0.824612   \n",
       "pcv             0.387645 -0.241696 -0.236304 -0.284219  ...  1.000000   \n",
       "wc             -0.057180  0.114349  0.013492  0.112820  ... -0.170752   \n",
       "rc              0.347639 -0.205306 -0.222822 -0.294418  ...  0.721740   \n",
       "htn            -0.315440  0.192512  0.133374  0.414283  ... -0.587650   \n",
       "dm             -0.221669  0.195301  0.103447  0.535366  ... -0.515257   \n",
       "cad            -0.204532  0.128363  0.206532  0.194784  ... -0.344832   \n",
       "appet           0.252409 -0.214655 -0.202226 -0.267635  ...  0.426988   \n",
       "pe             -0.367120  0.167838  0.202743  0.158523  ... -0.414188   \n",
       "ane            -0.268608  0.221041  0.075378  0.112951  ... -0.441331   \n",
       "classification -0.359476  0.249717  0.192148  0.416135  ... -0.651782   \n",
       "\n",
       "                      wc        rc       htn        dm       cad     appet  \\\n",
       "age             0.146828 -0.267395  0.409465  0.383036  0.224940 -0.146669   \n",
       "bp             -0.012754 -0.173593  0.245487  0.242848  0.060332 -0.101468   \n",
       "sg             -0.177367  0.454488 -0.352247 -0.376636 -0.152729  0.272266   \n",
       "al              0.206780 -0.392353  0.433380  0.349733  0.189797 -0.320043   \n",
       "su              0.157027 -0.172700  0.253446  0.419282  0.171714 -0.098485   \n",
       "rbc             0.038614  0.170751 -0.132394 -0.135204 -0.111747  0.185708   \n",
       "pc             -0.057180  0.347639 -0.315440 -0.221669 -0.204532  0.252409   \n",
       "pcc             0.114349 -0.205306  0.192512  0.195301  0.128363 -0.214655   \n",
       "ba              0.013492 -0.222822  0.133374  0.103447  0.206532 -0.202226   \n",
       "bgr             0.112820 -0.294418  0.414283  0.535366  0.194784 -0.267635   \n",
       "bu              0.108330 -0.447592  0.373813  0.428416  0.268489 -0.232871   \n",
       "sc              0.071611 -0.411485  0.367717  0.406823  0.132787 -0.246659   \n",
       "sod             0.006386  0.371767 -0.386900 -0.323121 -0.153602  0.252719   \n",
       "pot            -0.062277 -0.106448  0.131156  0.130122  0.191587 -0.070110   \n",
       "hemo           -0.130747  0.674720 -0.612232 -0.539156 -0.335814  0.424137   \n",
       "pcv            -0.170752  0.721740 -0.587650 -0.515257 -0.344832  0.426988   \n",
       "wc              1.000000 -0.131052  0.149408  0.126945  0.033662 -0.096063   \n",
       "rc             -0.131052  1.000000 -0.554028 -0.466491 -0.312867  0.422167   \n",
       "htn             0.149408 -0.554028  1.000000  0.636844  0.287078 -0.347013   \n",
       "dm              0.126945 -0.466491  0.636844  1.000000  0.262828 -0.351717   \n",
       "cad             0.033662 -0.312867  0.287078  0.262828  1.000000 -0.185047   \n",
       "appet          -0.096063  0.422167 -0.347013 -0.351717 -0.185047  1.000000   \n",
       "pe              0.128755 -0.337287  0.373445  0.319941  0.263218 -0.416906   \n",
       "ane             0.015413 -0.333761  0.369636  0.245936  0.063720 -0.273902   \n",
       "classification  0.146084 -0.575449  0.590838  0.586290  0.233494 -0.416242   \n",
       "\n",
       "                      pe       ane  classification  \n",
       "age             0.099835  0.102855        0.257968  \n",
       "bp             -0.037093  0.199726        0.267158  \n",
       "sg             -0.249465 -0.208425       -0.674477  \n",
       "al              0.426922  0.193195        0.526758  \n",
       "su              0.162597  0.099916        0.293457  \n",
       "rbc            -0.173641 -0.062206       -0.265302  \n",
       "pc             -0.367120 -0.268608       -0.359476  \n",
       "pcc             0.167838  0.221041        0.249717  \n",
       "ba              0.202743  0.075378        0.192148  \n",
       "bgr             0.158523  0.112951        0.416135  \n",
       "bu              0.245157  0.267885        0.383833  \n",
       "sc              0.314753  0.423547        0.417302  \n",
       "sod            -0.243517 -0.261176       -0.443258  \n",
       "pot             0.069612  0.083776        0.052039  \n",
       "hemo           -0.380433 -0.501447       -0.714488  \n",
       "pcv            -0.414188 -0.441331       -0.651782  \n",
       "wc              0.128755  0.015413        0.146084  \n",
       "rc             -0.337287 -0.333761       -0.575449  \n",
       "htn             0.373445  0.369636        0.590838  \n",
       "dm              0.319941  0.245936        0.586290  \n",
       "cad             0.263218  0.063720        0.233494  \n",
       "appet          -0.416906 -0.273902       -0.416242  \n",
       "pe              1.000000  0.230437        0.368337  \n",
       "ane             0.230437  1.000000        0.318642  \n",
       "classification  0.368337  0.318642        1.000000  \n",
       "\n",
       "[25 rows x 25 columns]"
      ]
     },
     "execution_count": 55,
     "metadata": {},
     "output_type": "execute_result"
    }
   ],
   "source": [
    "train_data1.corr().T"
   ]
  },
  {
   "cell_type": "code",
   "execution_count": 56,
   "id": "1a085e22",
   "metadata": {},
   "outputs": [
    {
     "data": {
      "text/plain": [
       "<matplotlib.axes._subplots.AxesSubplot at 0x1caaef9a8e0>"
      ]
     },
     "execution_count": 56,
     "metadata": {},
     "output_type": "execute_result"
    },
    {
     "data": {
      "image/png": "[encoded data removed]",
      "text/plain": [
       "<Figure size 1800x1080 with 2 Axes>"
      ]
     },
     "metadata": {},
     "output_type": "display_data"
    }
   ],
   "source": [
    "plt.figure(figsize=(25,15))\n",
    "sns.heatmap(train_data1.corr(),annot=True,cmap='Purples')"
   ]
  },
  {
   "cell_type": "markdown",
   "id": "416cc9fd",
   "metadata": {},
   "source": [
    "1) pc,hemo are highly co related with 0.82\n",
    "\n",
    "2) rc,hemo are highly co related with 0.67\n",
    "\n",
    "3) rc,pcv are highly co related with 0.72\n",
    "\n",
    "4) dm,htn are highly co related with 0.64\n",
    "\n",
    "5) hemo,htn are highly co related with 0.61"
   ]
  },
  {
   "cell_type": "markdown",
   "id": "b829065c",
   "metadata": {},
   "source": [
    "### Dropping ==== hemo,pcv,htn"
   ]
  },
  {
   "cell_type": "code",
   "execution_count": 57,
   "id": "fafcde7a",
   "metadata": {},
   "outputs": [],
   "source": [
    "train_data1.drop('hemo',axis=1,inplace=True)"
   ]
  },
  {
   "cell_type": "code",
   "execution_count": 58,
   "id": "1aba7e6b",
   "metadata": {},
   "outputs": [],
   "source": [
    "train_data1.drop('pcv',axis=1,inplace=True)\n",
    "train_data1.drop('htn',axis=1,inplace=True)"
   ]
  },
  {
   "cell_type": "code",
   "execution_count": 59,
   "id": "22e53346",
   "metadata": {},
   "outputs": [
    {
     "data": {
      "text/plain": [
       "(280, 22)"
      ]
     },
     "execution_count": 59,
     "metadata": {},
     "output_type": "execute_result"
    }
   ],
   "source": [
    "train_data1.shape"
   ]
  },
  {
   "cell_type": "code",
   "execution_count": 60,
   "id": "1aaf187a",
   "metadata": {},
   "outputs": [],
   "source": [
    "final_data=train_data1.copy()"
   ]
  },
  {
   "cell_type": "markdown",
   "id": "ce413199",
   "metadata": {},
   "source": [
    "# --------------SLIDE-6--------------\n",
    "# Using Machine Learning model \n",
    "# Decision Trees\n",
    "# Model Building"
   ]
  },
  {
   "cell_type": "code",
   "execution_count": 61,
   "id": "95f6524b",
   "metadata": {},
   "outputs": [
    {
     "data": {
      "text/html": [
       "<div>\n",
       "<style scoped>\n",
       "    .dataframe tbody tr th:only-of-type {\n",
       "        vertical-align: middle;\n",
       "    }\n",
       "\n",
       "    .dataframe tbody tr th {\n",
       "        vertical-align: top;\n",
       "    }\n",
       "\n",
       "    .dataframe thead th {\n",
       "        text-align: right;\n",
       "    }\n",
       "</style>\n",
       "<table border=\"1\" class=\"dataframe\">\n",
       "  <thead>\n",
       "    <tr style=\"text-align: right;\">\n",
       "      <th></th>\n",
       "      <th>age</th>\n",
       "      <th>bp</th>\n",
       "      <th>sg</th>\n",
       "      <th>al</th>\n",
       "      <th>su</th>\n",
       "      <th>rbc</th>\n",
       "      <th>pc</th>\n",
       "      <th>pcc</th>\n",
       "      <th>ba</th>\n",
       "      <th>bgr</th>\n",
       "      <th>...</th>\n",
       "      <th>sod</th>\n",
       "      <th>pot</th>\n",
       "      <th>wc</th>\n",
       "      <th>rc</th>\n",
       "      <th>dm</th>\n",
       "      <th>cad</th>\n",
       "      <th>appet</th>\n",
       "      <th>pe</th>\n",
       "      <th>ane</th>\n",
       "      <th>classification</th>\n",
       "    </tr>\n",
       "  </thead>\n",
       "  <tbody>\n",
       "    <tr>\n",
       "      <th>0</th>\n",
       "      <td>62.0</td>\n",
       "      <td>70.0</td>\n",
       "      <td>1.025</td>\n",
       "      <td>3.0</td>\n",
       "      <td>0.0</td>\n",
       "      <td>1</td>\n",
       "      <td>0</td>\n",
       "      <td>0</td>\n",
       "      <td>0</td>\n",
       "      <td>122.0</td>\n",
       "      <td>...</td>\n",
       "      <td>136.0</td>\n",
       "      <td>4.7</td>\n",
       "      <td>7900.0</td>\n",
       "      <td>3.9</td>\n",
       "      <td>1</td>\n",
       "      <td>0</td>\n",
       "      <td>1</td>\n",
       "      <td>0</td>\n",
       "      <td>0</td>\n",
       "      <td>1</td>\n",
       "    </tr>\n",
       "    <tr>\n",
       "      <th>1</th>\n",
       "      <td>54.0</td>\n",
       "      <td>70.0</td>\n",
       "      <td>1.020</td>\n",
       "      <td>0.0</td>\n",
       "      <td>0.0</td>\n",
       "      <td>1</td>\n",
       "      <td>1</td>\n",
       "      <td>0</td>\n",
       "      <td>0</td>\n",
       "      <td>233.0</td>\n",
       "      <td>...</td>\n",
       "      <td>138.0</td>\n",
       "      <td>4.4</td>\n",
       "      <td>7900.0</td>\n",
       "      <td>4.8</td>\n",
       "      <td>1</td>\n",
       "      <td>0</td>\n",
       "      <td>1</td>\n",
       "      <td>0</td>\n",
       "      <td>0</td>\n",
       "      <td>1</td>\n",
       "    </tr>\n",
       "    <tr>\n",
       "      <th>2</th>\n",
       "      <td>47.0</td>\n",
       "      <td>80.0</td>\n",
       "      <td>1.020</td>\n",
       "      <td>0.0</td>\n",
       "      <td>0.0</td>\n",
       "      <td>1</td>\n",
       "      <td>1</td>\n",
       "      <td>0</td>\n",
       "      <td>0</td>\n",
       "      <td>114.0</td>\n",
       "      <td>...</td>\n",
       "      <td>139.0</td>\n",
       "      <td>3.7</td>\n",
       "      <td>7900.0</td>\n",
       "      <td>4.8</td>\n",
       "      <td>0</td>\n",
       "      <td>0</td>\n",
       "      <td>0</td>\n",
       "      <td>0</td>\n",
       "      <td>0</td>\n",
       "      <td>1</td>\n",
       "    </tr>\n",
       "    <tr>\n",
       "      <th>3</th>\n",
       "      <td>43.0</td>\n",
       "      <td>60.0</td>\n",
       "      <td>1.025</td>\n",
       "      <td>0.0</td>\n",
       "      <td>0.0</td>\n",
       "      <td>1</td>\n",
       "      <td>1</td>\n",
       "      <td>0</td>\n",
       "      <td>0</td>\n",
       "      <td>108.0</td>\n",
       "      <td>...</td>\n",
       "      <td>144.0</td>\n",
       "      <td>5.0</td>\n",
       "      <td>7200.0</td>\n",
       "      <td>5.5</td>\n",
       "      <td>0</td>\n",
       "      <td>0</td>\n",
       "      <td>1</td>\n",
       "      <td>0</td>\n",
       "      <td>0</td>\n",
       "      <td>0</td>\n",
       "    </tr>\n",
       "    <tr>\n",
       "      <th>4</th>\n",
       "      <td>42.0</td>\n",
       "      <td>100.0</td>\n",
       "      <td>1.015</td>\n",
       "      <td>4.0</td>\n",
       "      <td>0.0</td>\n",
       "      <td>1</td>\n",
       "      <td>0</td>\n",
       "      <td>0</td>\n",
       "      <td>1</td>\n",
       "      <td>124.0</td>\n",
       "      <td>...</td>\n",
       "      <td>129.0</td>\n",
       "      <td>4.0</td>\n",
       "      <td>8300.0</td>\n",
       "      <td>4.6</td>\n",
       "      <td>0</td>\n",
       "      <td>0</td>\n",
       "      <td>0</td>\n",
       "      <td>0</td>\n",
       "      <td>0</td>\n",
       "      <td>1</td>\n",
       "    </tr>\n",
       "  </tbody>\n",
       "</table>\n",
       "<p>5 rows × 22 columns</p>\n",
       "</div>"
      ],
      "text/plain": [
       "    age     bp     sg   al   su  rbc  pc  pcc  ba    bgr  ...    sod  pot  \\\n",
       "0  62.0   70.0  1.025  3.0  0.0    1   0    0   0  122.0  ...  136.0  4.7   \n",
       "1  54.0   70.0  1.020  0.0  0.0    1   1    0   0  233.0  ...  138.0  4.4   \n",
       "2  47.0   80.0  1.020  0.0  0.0    1   1    0   0  114.0  ...  139.0  3.7   \n",
       "3  43.0   60.0  1.025  0.0  0.0    1   1    0   0  108.0  ...  144.0  5.0   \n",
       "4  42.0  100.0  1.015  4.0  0.0    1   0    0   1  124.0  ...  129.0  4.0   \n",
       "\n",
       "       wc   rc  dm  cad  appet  pe  ane  classification  \n",
       "0  7900.0  3.9   1    0      1   0    0               1  \n",
       "1  7900.0  4.8   1    0      1   0    0               1  \n",
       "2  7900.0  4.8   0    0      0   0    0               1  \n",
       "3  7200.0  5.5   0    0      1   0    0               0  \n",
       "4  8300.0  4.6   0    0      0   0    0               1  \n",
       "\n",
       "[5 rows x 22 columns]"
      ]
     },
     "execution_count": 61,
     "metadata": {},
     "output_type": "execute_result"
    }
   ],
   "source": [
    "final_data.head()"
   ]
  },
  {
   "cell_type": "code",
   "execution_count": 62,
   "id": "608ce307",
   "metadata": {},
   "outputs": [],
   "source": [
    "X=final_data.drop(['classification'],axis=1)\n",
    "y=final_data['classification']"
   ]
  },
  {
   "cell_type": "code",
   "execution_count": 63,
   "id": "05f66f1b",
   "metadata": {},
   "outputs": [
    {
     "data": {
      "text/plain": [
       "(280, 21)"
      ]
     },
     "execution_count": 63,
     "metadata": {},
     "output_type": "execute_result"
    }
   ],
   "source": [
    "X.shape"
   ]
  },
  {
   "cell_type": "code",
   "execution_count": 64,
   "id": "241a1a60",
   "metadata": {},
   "outputs": [
    {
     "data": {
      "text/plain": [
       "(280,)"
      ]
     },
     "execution_count": 64,
     "metadata": {},
     "output_type": "execute_result"
    }
   ],
   "source": [
    "y.shape"
   ]
  },
  {
   "cell_type": "code",
   "execution_count": 65,
   "id": "f080e4ab",
   "metadata": {},
   "outputs": [],
   "source": [
    "from sklearn.model_selection import train_test_split\n",
    "X_train,X_test,y_train,y_test=train_test_split(X,y,test_size=0.3)"
   ]
  },
  {
   "cell_type": "code",
   "execution_count": 66,
   "id": "c42d9c38",
   "metadata": {},
   "outputs": [
    {
     "name": "stdout",
     "output_type": "stream",
     "text": [
      "X train shape:  (196, 21)\n",
      "X test shape:  (84, 21)\n",
      "y train shape:  (196,)\n",
      "y test shape:  (84,)\n"
     ]
    }
   ],
   "source": [
    "print('X train shape: ', X_train.shape)\n",
    "print('X test shape: ', X_test.shape)\n",
    "print('y train shape: ', y_train.shape)\n",
    "print('y test shape: ', y_test.shape)"
   ]
  },
  {
   "cell_type": "code",
   "execution_count": 67,
   "id": "f3b7a317",
   "metadata": {},
   "outputs": [],
   "source": [
    "from sklearn.tree import DecisionTreeClassifier\n",
    "dt=DecisionTreeClassifier()\n",
    "dt.fit(X_train,y_train)\n",
    "y_pred=dt.predict(X_test)"
   ]
  },
  {
   "cell_type": "code",
   "execution_count": 68,
   "id": "3a93bdca",
   "metadata": {},
   "outputs": [],
   "source": [
    "from sklearn.metrics import accuracy_score,confusion_matrix,classification_report"
   ]
  },
  {
   "cell_type": "code",
   "execution_count": 69,
   "id": "1a064b8a",
   "metadata": {},
   "outputs": [
    {
     "data": {
      "text/plain": [
       "array([[25,  0],\n",
       "       [ 3, 56]], dtype=int64)"
      ]
     },
     "execution_count": 69,
     "metadata": {},
     "output_type": "execute_result"
    }
   ],
   "source": [
    "confusion_matrix(y_test,y_pred)"
   ]
  },
  {
   "cell_type": "markdown",
   "id": "7f10ed79",
   "metadata": {},
   "source": [
    "## -----------------------------------------Accuracy Score----------------------------------------------"
   ]
  },
  {
   "cell_type": "code",
   "execution_count": 70,
   "id": "be1c48e4",
   "metadata": {},
   "outputs": [
    {
     "data": {
      "text/plain": [
       "0.9642857142857143"
      ]
     },
     "execution_count": 70,
     "metadata": {},
     "output_type": "execute_result"
    }
   ],
   "source": [
    "accuracy_score(y_test,y_pred)"
   ]
  },
  {
   "cell_type": "markdown",
   "id": "e9f66e94",
   "metadata": {},
   "source": [
    "## --------------------Classification Report----------------------------------"
   ]
  },
  {
   "cell_type": "code",
   "execution_count": 72,
   "id": "75c61f82",
   "metadata": {},
   "outputs": [
    {
     "name": "stdout",
     "output_type": "stream",
     "text": [
      "              precision    recall  f1-score   support\n",
      "\n",
      "           0       0.89      1.00      0.94        25\n",
      "           1       1.00      0.95      0.97        59\n",
      "\n",
      "    accuracy                           0.96        84\n",
      "   macro avg       0.95      0.97      0.96        84\n",
      "weighted avg       0.97      0.96      0.96        84\n",
      "\n"
     ]
    }
   ],
   "source": [
    "print(classification_report(y_test,y_pred))"
   ]
  },
  {
   "cell_type": "code",
   "execution_count": null,
   "id": "1254417a",
   "metadata": {},
   "outputs": [],
   "source": []
  }
 ],
 "metadata": {
  "kernelspec": {
   "display_name": "Python 3",
   "language": "python",
   "name": "python3"
  },
  "language_info": {
   "codemirror_mode": {
    "name": "ipython",
    "version": 3
   },
   "file_extension": ".py",
   "mimetype": "text/x-python",
   "name": "python",
   "nbconvert_exporter": "python",
   "pygments_lexer": "ipython3",
   "version": "3.8.3"
  }
 },
 "nbformat": 4,
 "nbformat_minor": 5
}
